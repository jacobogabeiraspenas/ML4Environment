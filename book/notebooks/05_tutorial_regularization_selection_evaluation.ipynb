{
 "cells": [
  {
   "cell_type": "markdown",
   "id": "b4f7548b",
   "metadata": {},
   "source": [
    "# Tutorial: Regularization, Model Selection and Evaluation\n",
    "\n",
    "[![Binder](https://mybinder.org/badge_logo.svg)](https://mybinder.org/v2/git/https%3A%2F%2Fgitlab.in2p3.fr%2Fenergy4climate%2Fpublic%2Feducation%2Fmachine_learning_for_climate_and_energy/master?filepath=book%2Fnotebooks%2F04_tutorial_regularization_selection_evaluation.ipynb)\n",
    "\n",
    "Tutorial to the class [Regularization, Model Selection and Evaluation](05_regularization_selection_evaluation.ipynb)."
   ]
  },
  {
   "cell_type": "markdown",
   "id": "764cb270",
   "metadata": {},
   "source": [
    "<div class=\"alert alert-block alert-info\">\n",
    "    <b>Tutorial Objectives</b>\n",
    "    \n",
    "- Apply regularization methods: Ridge and Lasso\n",
    "- Compute and plot validation curves\n",
    "- Compare $k$-nearest neighbors to Ridge/Lasso\n",
    "</div>"
   ]
  },
  {
   "cell_type": "markdown",
   "id": "fd9327f2-57c4-4981-9262-37c5c589d5bd",
   "metadata": {},
   "source": [
    "## Scientific objective\n",
    "\n",
    "To predict the France average wind capacity factor from the geopotential height at 500hPa over the Euro-Atlantic sector.\n",
    "\n",
    "## Dataset presentation\n",
    "\n",
    "- Input:\n",
    "  - [Geopotential height](https://en.wikipedia.org/wiki/Geopotential_height) at 500hPa\n",
    "    - Domain: North Atlantic\n",
    "    - Spatial resolution: $0.5° \\times 0.625°$\n",
    "    - Time resolution: monthly\n",
    "    - Period: 1980-2021\n",
    "    - Units: m\n",
    "    - Source: [MERRA-2 reanalysis](https://gmao.gsfc.nasa.gov/reanalysis/MERRA-2/)\n",
    "- Target:\n",
    "  - Onshore wind capacity factors\n",
    "    - Domain: Metropolitan France\n",
    "    - Spatial resolution: regional mean\n",
    "    - Time resolution: daily\n",
    "    - Period: 2014-2021\n",
    "    - Units:\n",
    "    - Source: [RTE](https://opendata.reseaux-energies.fr/)"
   ]
  },
  {
   "cell_type": "markdown",
   "id": "29dd97f9",
   "metadata": {},
   "source": [
    "## Getting ready\n",
    "\n",
    "### Reading the wind capacity factor data\n",
    "\n",
    "- Let us follow the same procedure as in [Tutorial: Supervised Learning Problem and Least Squares](02_tutorial_supervised_learning_problem_ols.ipynb) to import the required modules, read the data and select the domain but for the onshore wind capacity factors instead of the electricity demand.\n",
    "- We also compute monthly averages from the daily data since the we are only interested in predicting the monthly wind capacity factors."
   ]
  },
  {
   "cell_type": "code",
   "execution_count": 1,
   "id": "f4d5fc98",
   "metadata": {},
   "outputs": [],
   "source": [
    "# Path manipulation module\n",
    "from pathlib import Path\n",
    "# Numerical analysis module\n",
    "import numpy as np\n",
    "# Formatted numerical analysis module\n",
    "import pandas as pd\n",
    "# Structured dataset analysis module\n",
    "import xarray as xr\n",
    "# Plot module\n",
    "import matplotlib.pyplot as plt\n",
    "# Default colors\n",
    "RC_COLORS = plt.rcParams['axes.prop_cycle'].by_key()['color']\n",
    "# Matplotlib configuration\n",
    "plt.rc('font', size=14)\n",
    "\n",
    "# Set data directory\n",
    "data_dir = Path('data')\n",
    "\n",
    "# Set keyword arguments for pd.read_csv\n",
    "kwargs_read_csv = dict(index_col=0, parse_dates=True) \n",
    "\n",
    "# Define electricity demand filepath and label\n",
    "windcf_filename = 'reseaux_energies_capacityfactor_wind-onshore.csv'\n",
    "windcf_filepath = Path(data_dir, windcf_filename)\n",
    "windcf_label = 'Wind capacity factor'\n",
    "\n",
    "# Read windcf data with pandas                                                                                                                                                \n",
    "df_windcf_daily = pd.read_csv(windcf_filepath, **kwargs_read_csv)\n",
    "\n",
    "# Select domain\n",
    "# REGION_NAME = 'Bretagne'\n",
    "REGION_NAME = 'National'\n",
    "if REGION_NAME == 'National':\n",
    "    df_windcf_daily_reg = df_windcf_daily.mean('columns')\n",
    "    df_windcf_daily_reg.name = REGION_NAME\n",
    "else:\n",
    "    df_windcf_daily_reg = df_windcf_daily[REGION_NAME]\n",
    "\n",
    "# Resample wind capacity factor from daily to monthly means\n",
    "df_windcf_reg = df_windcf_daily_reg.resample('MS').mean()"
   ]
  },
  {
   "cell_type": "markdown",
   "id": "484ef4ef-8267-4404-9977-ffb03e2cead3",
   "metadata": {},
   "source": [
    "### Reading the geopotential height data\n",
    "\n",
    "- The geopotential height data is in the NetCDF format (structured binary data) and cannot be read as text.\n",
    "We use the `xarray` module instead to read it.\n",
    "- We also divide the resolution of the gridded data by a factor 4 in both horizontal dimensions."
   ]
  },
  {
   "cell_type": "code",
   "execution_count": 2,
   "id": "473a3c61-2bf2-41fa-a486-f23254678e1c",
   "metadata": {},
   "outputs": [],
   "source": [
    "# Define temperature filepath and label\n",
    "START_DATE = '19800101'\n",
    "END_DATE = '20220101'\n",
    "z500_filename = 'merra2_analyze_height_500_month_{}-{}.nc'.format(START_DATE, END_DATE)\n",
    "z500_filepath = Path(data_dir, z500_filename)\n",
    "z500_label = 'Geopotential height (m)'\n",
    "\n",
    "# Read geopotential height dataset with xarray                                                                                                                                \n",
    "ds = xr.load_dataset(z500_filepath)\n",
    "\n",
    "# Select geopotential height variable                                                                                                                                         \n",
    "z500_name = 'height_500'                                                                                                                                                     \n",
    "da_z500_hr = ds[z500_name]\n",
    "\n",
    "# Downsample geopotential height\n",
    "N_GRID_AVG = 8\n",
    "da_z500 = da_z500_hr.coarsen(lat=N_GRID_AVG, boundary='trim').mean().coarsen(                                                                                                 \n",
    "    lon=N_GRID_AVG, boundary='trim').mean()"
   ]
  },
  {
   "cell_type": "markdown",
   "id": "4e02288a-7de8-45ac-b94d-e546ff077c9f",
   "metadata": {},
   "source": [
    "> ***Question***\n",
    "> - Print the geopotential height `DataArray` and make sense of what you read.\n",
    "> - How many variables constitute the geopotential height field?"
   ]
  },
  {
   "cell_type": "code",
   "execution_count": 6,
   "id": "4ad6a8e8-cc8d-45bc-bdee-c91057dd781d",
   "metadata": {},
   "outputs": [
    {
     "data": {
      "text/html": [
       "<div><svg style=\"position: absolute; width: 0; height: 0; overflow: hidden\">\n",
       "<defs>\n",
       "<symbol id=\"icon-database\" viewBox=\"0 0 32 32\">\n",
       "<path d=\"M16 0c-8.837 0-16 2.239-16 5v4c0 2.761 7.163 5 16 5s16-2.239 16-5v-4c0-2.761-7.163-5-16-5z\"></path>\n",
       "<path d=\"M16 17c-8.837 0-16-2.239-16-5v6c0 2.761 7.163 5 16 5s16-2.239 16-5v-6c0 2.761-7.163 5-16 5z\"></path>\n",
       "<path d=\"M16 26c-8.837 0-16-2.239-16-5v6c0 2.761 7.163 5 16 5s16-2.239 16-5v-6c0 2.761-7.163 5-16 5z\"></path>\n",
       "</symbol>\n",
       "<symbol id=\"icon-file-text2\" viewBox=\"0 0 32 32\">\n",
       "<path d=\"M28.681 7.159c-0.694-0.947-1.662-2.053-2.724-3.116s-2.169-2.030-3.116-2.724c-1.612-1.182-2.393-1.319-2.841-1.319h-15.5c-1.378 0-2.5 1.121-2.5 2.5v27c0 1.378 1.122 2.5 2.5 2.5h23c1.378 0 2.5-1.122 2.5-2.5v-19.5c0-0.448-0.137-1.23-1.319-2.841zM24.543 5.457c0.959 0.959 1.712 1.825 2.268 2.543h-4.811v-4.811c0.718 0.556 1.584 1.309 2.543 2.268zM28 29.5c0 0.271-0.229 0.5-0.5 0.5h-23c-0.271 0-0.5-0.229-0.5-0.5v-27c0-0.271 0.229-0.5 0.5-0.5 0 0 15.499-0 15.5 0v7c0 0.552 0.448 1 1 1h7v19.5z\"></path>\n",
       "<path d=\"M23 26h-14c-0.552 0-1-0.448-1-1s0.448-1 1-1h14c0.552 0 1 0.448 1 1s-0.448 1-1 1z\"></path>\n",
       "<path d=\"M23 22h-14c-0.552 0-1-0.448-1-1s0.448-1 1-1h14c0.552 0 1 0.448 1 1s-0.448 1-1 1z\"></path>\n",
       "<path d=\"M23 18h-14c-0.552 0-1-0.448-1-1s0.448-1 1-1h14c0.552 0 1 0.448 1 1s-0.448 1-1 1z\"></path>\n",
       "</symbol>\n",
       "</defs>\n",
       "</svg>\n",
       "<style>/* CSS stylesheet for displaying xarray objects in jupyterlab.\n",
       " *\n",
       " */\n",
       "\n",
       ":root {\n",
       "  --xr-font-color0: var(--jp-content-font-color0, rgba(0, 0, 0, 1));\n",
       "  --xr-font-color2: var(--jp-content-font-color2, rgba(0, 0, 0, 0.54));\n",
       "  --xr-font-color3: var(--jp-content-font-color3, rgba(0, 0, 0, 0.38));\n",
       "  --xr-border-color: var(--jp-border-color2, #e0e0e0);\n",
       "  --xr-disabled-color: var(--jp-layout-color3, #bdbdbd);\n",
       "  --xr-background-color: var(--jp-layout-color0, white);\n",
       "  --xr-background-color-row-even: var(--jp-layout-color1, white);\n",
       "  --xr-background-color-row-odd: var(--jp-layout-color2, #eeeeee);\n",
       "}\n",
       "\n",
       "html[theme=dark],\n",
       "body.vscode-dark {\n",
       "  --xr-font-color0: rgba(255, 255, 255, 1);\n",
       "  --xr-font-color2: rgba(255, 255, 255, 0.54);\n",
       "  --xr-font-color3: rgba(255, 255, 255, 0.38);\n",
       "  --xr-border-color: #1F1F1F;\n",
       "  --xr-disabled-color: #515151;\n",
       "  --xr-background-color: #111111;\n",
       "  --xr-background-color-row-even: #111111;\n",
       "  --xr-background-color-row-odd: #313131;\n",
       "}\n",
       "\n",
       ".xr-wrap {\n",
       "  display: block;\n",
       "  min-width: 300px;\n",
       "  max-width: 700px;\n",
       "}\n",
       "\n",
       ".xr-text-repr-fallback {\n",
       "  /* fallback to plain text repr when CSS is not injected (untrusted notebook) */\n",
       "  display: none;\n",
       "}\n",
       "\n",
       ".xr-header {\n",
       "  padding-top: 6px;\n",
       "  padding-bottom: 6px;\n",
       "  margin-bottom: 4px;\n",
       "  border-bottom: solid 1px var(--xr-border-color);\n",
       "}\n",
       "\n",
       ".xr-header > div,\n",
       ".xr-header > ul {\n",
       "  display: inline;\n",
       "  margin-top: 0;\n",
       "  margin-bottom: 0;\n",
       "}\n",
       "\n",
       ".xr-obj-type,\n",
       ".xr-array-name {\n",
       "  margin-left: 2px;\n",
       "  margin-right: 10px;\n",
       "}\n",
       "\n",
       ".xr-obj-type {\n",
       "  color: var(--xr-font-color2);\n",
       "}\n",
       "\n",
       ".xr-sections {\n",
       "  padding-left: 0 !important;\n",
       "  display: grid;\n",
       "  grid-template-columns: 150px auto auto 1fr 20px 20px;\n",
       "}\n",
       "\n",
       ".xr-section-item {\n",
       "  display: contents;\n",
       "}\n",
       "\n",
       ".xr-section-item input {\n",
       "  display: none;\n",
       "}\n",
       "\n",
       ".xr-section-item input + label {\n",
       "  color: var(--xr-disabled-color);\n",
       "}\n",
       "\n",
       ".xr-section-item input:enabled + label {\n",
       "  cursor: pointer;\n",
       "  color: var(--xr-font-color2);\n",
       "}\n",
       "\n",
       ".xr-section-item input:enabled + label:hover {\n",
       "  color: var(--xr-font-color0);\n",
       "}\n",
       "\n",
       ".xr-section-summary {\n",
       "  grid-column: 1;\n",
       "  color: var(--xr-font-color2);\n",
       "  font-weight: 500;\n",
       "}\n",
       "\n",
       ".xr-section-summary > span {\n",
       "  display: inline-block;\n",
       "  padding-left: 0.5em;\n",
       "}\n",
       "\n",
       ".xr-section-summary-in:disabled + label {\n",
       "  color: var(--xr-font-color2);\n",
       "}\n",
       "\n",
       ".xr-section-summary-in + label:before {\n",
       "  display: inline-block;\n",
       "  content: '►';\n",
       "  font-size: 11px;\n",
       "  width: 15px;\n",
       "  text-align: center;\n",
       "}\n",
       "\n",
       ".xr-section-summary-in:disabled + label:before {\n",
       "  color: var(--xr-disabled-color);\n",
       "}\n",
       "\n",
       ".xr-section-summary-in:checked + label:before {\n",
       "  content: '▼';\n",
       "}\n",
       "\n",
       ".xr-section-summary-in:checked + label > span {\n",
       "  display: none;\n",
       "}\n",
       "\n",
       ".xr-section-summary,\n",
       ".xr-section-inline-details {\n",
       "  padding-top: 4px;\n",
       "  padding-bottom: 4px;\n",
       "}\n",
       "\n",
       ".xr-section-inline-details {\n",
       "  grid-column: 2 / -1;\n",
       "}\n",
       "\n",
       ".xr-section-details {\n",
       "  display: none;\n",
       "  grid-column: 1 / -1;\n",
       "  margin-bottom: 5px;\n",
       "}\n",
       "\n",
       ".xr-section-summary-in:checked ~ .xr-section-details {\n",
       "  display: contents;\n",
       "}\n",
       "\n",
       ".xr-array-wrap {\n",
       "  grid-column: 1 / -1;\n",
       "  display: grid;\n",
       "  grid-template-columns: 20px auto;\n",
       "}\n",
       "\n",
       ".xr-array-wrap > label {\n",
       "  grid-column: 1;\n",
       "  vertical-align: top;\n",
       "}\n",
       "\n",
       ".xr-preview {\n",
       "  color: var(--xr-font-color3);\n",
       "}\n",
       "\n",
       ".xr-array-preview,\n",
       ".xr-array-data {\n",
       "  padding: 0 5px !important;\n",
       "  grid-column: 2;\n",
       "}\n",
       "\n",
       ".xr-array-data,\n",
       ".xr-array-in:checked ~ .xr-array-preview {\n",
       "  display: none;\n",
       "}\n",
       "\n",
       ".xr-array-in:checked ~ .xr-array-data,\n",
       ".xr-array-preview {\n",
       "  display: inline-block;\n",
       "}\n",
       "\n",
       ".xr-dim-list {\n",
       "  display: inline-block !important;\n",
       "  list-style: none;\n",
       "  padding: 0 !important;\n",
       "  margin: 0;\n",
       "}\n",
       "\n",
       ".xr-dim-list li {\n",
       "  display: inline-block;\n",
       "  padding: 0;\n",
       "  margin: 0;\n",
       "}\n",
       "\n",
       ".xr-dim-list:before {\n",
       "  content: '(';\n",
       "}\n",
       "\n",
       ".xr-dim-list:after {\n",
       "  content: ')';\n",
       "}\n",
       "\n",
       ".xr-dim-list li:not(:last-child):after {\n",
       "  content: ',';\n",
       "  padding-right: 5px;\n",
       "}\n",
       "\n",
       ".xr-has-index {\n",
       "  font-weight: bold;\n",
       "}\n",
       "\n",
       ".xr-var-list,\n",
       ".xr-var-item {\n",
       "  display: contents;\n",
       "}\n",
       "\n",
       ".xr-var-item > div,\n",
       ".xr-var-item label,\n",
       ".xr-var-item > .xr-var-name span {\n",
       "  background-color: var(--xr-background-color-row-even);\n",
       "  margin-bottom: 0;\n",
       "}\n",
       "\n",
       ".xr-var-item > .xr-var-name:hover span {\n",
       "  padding-right: 5px;\n",
       "}\n",
       "\n",
       ".xr-var-list > li:nth-child(odd) > div,\n",
       ".xr-var-list > li:nth-child(odd) > label,\n",
       ".xr-var-list > li:nth-child(odd) > .xr-var-name span {\n",
       "  background-color: var(--xr-background-color-row-odd);\n",
       "}\n",
       "\n",
       ".xr-var-name {\n",
       "  grid-column: 1;\n",
       "}\n",
       "\n",
       ".xr-var-dims {\n",
       "  grid-column: 2;\n",
       "}\n",
       "\n",
       ".xr-var-dtype {\n",
       "  grid-column: 3;\n",
       "  text-align: right;\n",
       "  color: var(--xr-font-color2);\n",
       "}\n",
       "\n",
       ".xr-var-preview {\n",
       "  grid-column: 4;\n",
       "}\n",
       "\n",
       ".xr-var-name,\n",
       ".xr-var-dims,\n",
       ".xr-var-dtype,\n",
       ".xr-preview,\n",
       ".xr-attrs dt {\n",
       "  white-space: nowrap;\n",
       "  overflow: hidden;\n",
       "  text-overflow: ellipsis;\n",
       "  padding-right: 10px;\n",
       "}\n",
       "\n",
       ".xr-var-name:hover,\n",
       ".xr-var-dims:hover,\n",
       ".xr-var-dtype:hover,\n",
       ".xr-attrs dt:hover {\n",
       "  overflow: visible;\n",
       "  width: auto;\n",
       "  z-index: 1;\n",
       "}\n",
       "\n",
       ".xr-var-attrs,\n",
       ".xr-var-data {\n",
       "  display: none;\n",
       "  background-color: var(--xr-background-color) !important;\n",
       "  padding-bottom: 5px !important;\n",
       "}\n",
       "\n",
       ".xr-var-attrs-in:checked ~ .xr-var-attrs,\n",
       ".xr-var-data-in:checked ~ .xr-var-data {\n",
       "  display: block;\n",
       "}\n",
       "\n",
       ".xr-var-data > table {\n",
       "  float: right;\n",
       "}\n",
       "\n",
       ".xr-var-name span,\n",
       ".xr-var-data,\n",
       ".xr-attrs {\n",
       "  padding-left: 25px !important;\n",
       "}\n",
       "\n",
       ".xr-attrs,\n",
       ".xr-var-attrs,\n",
       ".xr-var-data {\n",
       "  grid-column: 1 / -1;\n",
       "}\n",
       "\n",
       "dl.xr-attrs {\n",
       "  padding: 0;\n",
       "  margin: 0;\n",
       "  display: grid;\n",
       "  grid-template-columns: 125px auto;\n",
       "}\n",
       "\n",
       ".xr-attrs dt,\n",
       ".xr-attrs dd {\n",
       "  padding: 0;\n",
       "  margin: 0;\n",
       "  float: left;\n",
       "  padding-right: 10px;\n",
       "  width: auto;\n",
       "}\n",
       "\n",
       ".xr-attrs dt {\n",
       "  font-weight: normal;\n",
       "  grid-column: 1;\n",
       "}\n",
       "\n",
       ".xr-attrs dt:hover span {\n",
       "  display: inline-block;\n",
       "  background: var(--xr-background-color);\n",
       "  padding-right: 10px;\n",
       "}\n",
       "\n",
       ".xr-attrs dd {\n",
       "  grid-column: 2;\n",
       "  white-space: pre-wrap;\n",
       "  word-break: break-all;\n",
       "}\n",
       "\n",
       ".xr-icon-database,\n",
       ".xr-icon-file-text2 {\n",
       "  display: inline-block;\n",
       "  vertical-align: middle;\n",
       "  width: 1em;\n",
       "  height: 1.5em !important;\n",
       "  stroke-width: 0;\n",
       "  stroke: currentColor;\n",
       "  fill: currentColor;\n",
       "}\n",
       "</style><pre class='xr-text-repr-fallback'>&lt;xarray.Dataset&gt;\n",
       "Dimensions:     (time: 504, lat: 45, lon: 72)\n",
       "Coordinates:\n",
       "  * time        (time) datetime64[ns] 1980-01-01 1980-02-01 ... 2021-12-01\n",
       "  * lat         (lat) float64 0.75 2.75 4.75 6.75 ... 82.75 84.75 86.75 88.75\n",
       "  * lon         (lon) float64 -99.06 -96.56 -94.06 -91.56 ... 73.44 75.94 78.44\n",
       "Data variables:\n",
       "    height_500  (time, lat, lon) float32 9.136e+03 9.137e+03 ... 175.6 175.6</pre><div class='xr-wrap' hidden><div class='xr-header'><div class='xr-obj-type'>xarray.Dataset</div></div><ul class='xr-sections'><li class='xr-section-item'><input id='section-1e48b0c7-8ad0-488a-a43a-c48b2c1fc256' class='xr-section-summary-in' type='checkbox' disabled ><label for='section-1e48b0c7-8ad0-488a-a43a-c48b2c1fc256' class='xr-section-summary'  title='Expand/collapse section'>Dimensions:</label><div class='xr-section-inline-details'><ul class='xr-dim-list'><li><span class='xr-has-index'>time</span>: 504</li><li><span class='xr-has-index'>lat</span>: 45</li><li><span class='xr-has-index'>lon</span>: 72</li></ul></div><div class='xr-section-details'></div></li><li class='xr-section-item'><input id='section-ef1fca3e-e308-49d0-b5d6-e7be491b53e1' class='xr-section-summary-in' type='checkbox'  checked><label for='section-ef1fca3e-e308-49d0-b5d6-e7be491b53e1' class='xr-section-summary' >Coordinates: <span>(3)</span></label><div class='xr-section-inline-details'></div><div class='xr-section-details'><ul class='xr-var-list'><li class='xr-var-item'><div class='xr-var-name'><span class='xr-has-index'>time</span></div><div class='xr-var-dims'>(time)</div><div class='xr-var-dtype'>datetime64[ns]</div><div class='xr-var-preview xr-preview'>1980-01-01 ... 2021-12-01</div><input id='attrs-2e0f50d2-5d78-41ec-b4c1-826ec1099639' class='xr-var-attrs-in' type='checkbox' disabled><label for='attrs-2e0f50d2-5d78-41ec-b4c1-826ec1099639' title='Show/Hide attributes'><svg class='icon xr-icon-file-text2'><use xlink:href='#icon-file-text2'></use></svg></label><input id='data-90680825-3a0d-43dd-8d09-3a6e97d41457' class='xr-var-data-in' type='checkbox'><label for='data-90680825-3a0d-43dd-8d09-3a6e97d41457' title='Show/Hide data repr'><svg class='icon xr-icon-database'><use xlink:href='#icon-database'></use></svg></label><div class='xr-var-attrs'><dl class='xr-attrs'></dl></div><div class='xr-var-data'><pre>array([&#x27;1980-01-01T00:00:00.000000000&#x27;, &#x27;1980-02-01T00:00:00.000000000&#x27;,\n",
       "       &#x27;1980-03-01T00:00:00.000000000&#x27;, ..., &#x27;2021-10-01T00:00:00.000000000&#x27;,\n",
       "       &#x27;2021-11-01T00:00:00.000000000&#x27;, &#x27;2021-12-01T00:00:00.000000000&#x27;],\n",
       "      dtype=&#x27;datetime64[ns]&#x27;)</pre></div></li><li class='xr-var-item'><div class='xr-var-name'><span class='xr-has-index'>lat</span></div><div class='xr-var-dims'>(lat)</div><div class='xr-var-dtype'>float64</div><div class='xr-var-preview xr-preview'>0.75 2.75 4.75 ... 86.75 88.75</div><input id='attrs-6781af64-31ef-48e5-a0a5-d5a5a2bf0ff1' class='xr-var-attrs-in' type='checkbox' ><label for='attrs-6781af64-31ef-48e5-a0a5-d5a5a2bf0ff1' title='Show/Hide attributes'><svg class='icon xr-icon-file-text2'><use xlink:href='#icon-file-text2'></use></svg></label><input id='data-87793cfc-344e-4cf3-9dbe-a89fd10afc6c' class='xr-var-data-in' type='checkbox'><label for='data-87793cfc-344e-4cf3-9dbe-a89fd10afc6c' title='Show/Hide data repr'><svg class='icon xr-icon-database'><use xlink:href='#icon-database'></use></svg></label><div class='xr-var-attrs'><dl class='xr-attrs'><dt><span>long_name :</span></dt><dd>latitude</dd><dt><span>units :</span></dt><dd>degrees_north</dd><dt><span>vmax :</span></dt><dd>1000000000000000.0</dd><dt><span>vmin :</span></dt><dd>-1000000000000000.0</dd><dt><span>valid_range :</span></dt><dd>[-1.e+15  1.e+15]</dd><dt><span>origname :</span></dt><dd>lat</dd><dt><span>fullnamepath :</span></dt><dd>/lat</dd></dl></div><div class='xr-var-data'><pre>array([ 0.75,  2.75,  4.75,  6.75,  8.75, 10.75, 12.75, 14.75, 16.75, 18.75,\n",
       "       20.75, 22.75, 24.75, 26.75, 28.75, 30.75, 32.75, 34.75, 36.75, 38.75,\n",
       "       40.75, 42.75, 44.75, 46.75, 48.75, 50.75, 52.75, 54.75, 56.75, 58.75,\n",
       "       60.75, 62.75, 64.75, 66.75, 68.75, 70.75, 72.75, 74.75, 76.75, 78.75,\n",
       "       80.75, 82.75, 84.75, 86.75, 88.75])</pre></div></li><li class='xr-var-item'><div class='xr-var-name'><span class='xr-has-index'>lon</span></div><div class='xr-var-dims'>(lon)</div><div class='xr-var-dtype'>float64</div><div class='xr-var-preview xr-preview'>-99.06 -96.56 ... 75.94 78.44</div><input id='attrs-5389b562-3f67-43ba-a6a6-aa5b361fadbc' class='xr-var-attrs-in' type='checkbox' ><label for='attrs-5389b562-3f67-43ba-a6a6-aa5b361fadbc' title='Show/Hide attributes'><svg class='icon xr-icon-file-text2'><use xlink:href='#icon-file-text2'></use></svg></label><input id='data-1da5f6fd-af6a-4b0d-9287-97b9eb741dc2' class='xr-var-data-in' type='checkbox'><label for='data-1da5f6fd-af6a-4b0d-9287-97b9eb741dc2' title='Show/Hide data repr'><svg class='icon xr-icon-database'><use xlink:href='#icon-database'></use></svg></label><div class='xr-var-attrs'><dl class='xr-attrs'><dt><span>long_name :</span></dt><dd>longitude</dd><dt><span>units :</span></dt><dd>degrees_east</dd><dt><span>vmax :</span></dt><dd>1000000000000000.0</dd><dt><span>vmin :</span></dt><dd>-1000000000000000.0</dd><dt><span>valid_range :</span></dt><dd>[-1.e+15  1.e+15]</dd><dt><span>origname :</span></dt><dd>lon</dd><dt><span>fullnamepath :</span></dt><dd>/lon</dd></dl></div><div class='xr-var-data'><pre>array([-99.0625, -96.5625, -94.0625, -91.5625, -89.0625, -86.5625, -84.0625,\n",
       "       -81.5625, -79.0625, -76.5625, -74.0625, -71.5625, -69.0625, -66.5625,\n",
       "       -64.0625, -61.5625, -59.0625, -56.5625, -54.0625, -51.5625, -49.0625,\n",
       "       -46.5625, -44.0625, -41.5625, -39.0625, -36.5625, -34.0625, -31.5625,\n",
       "       -29.0625, -26.5625, -24.0625, -21.5625, -19.0625, -16.5625, -14.0625,\n",
       "       -11.5625,  -9.0625,  -6.5625,  -4.0625,  -1.5625,   0.9375,   3.4375,\n",
       "         5.9375,   8.4375,  10.9375,  13.4375,  15.9375,  18.4375,  20.9375,\n",
       "        23.4375,  25.9375,  28.4375,  30.9375,  33.4375,  35.9375,  38.4375,\n",
       "        40.9375,  43.4375,  45.9375,  48.4375,  50.9375,  53.4375,  55.9375,\n",
       "        58.4375,  60.9375,  63.4375,  65.9375,  68.4375,  70.9375,  73.4375,\n",
       "        75.9375,  78.4375])</pre></div></li></ul></div></li><li class='xr-section-item'><input id='section-eb7b16fa-6718-49c0-90bb-cfad242184e1' class='xr-section-summary-in' type='checkbox'  checked><label for='section-eb7b16fa-6718-49c0-90bb-cfad242184e1' class='xr-section-summary' >Data variables: <span>(1)</span></label><div class='xr-section-inline-details'></div><div class='xr-section-details'><ul class='xr-var-list'><li class='xr-var-item'><div class='xr-var-name'><span>height_500</span></div><div class='xr-var-dims'>(time, lat, lon)</div><div class='xr-var-dtype'>float32</div><div class='xr-var-preview xr-preview'>9.136e+03 9.137e+03 ... 175.6 175.6</div><input id='attrs-fe90939d-9e46-4e51-80a1-560d08ba9a56' class='xr-var-attrs-in' type='checkbox' disabled><label for='attrs-fe90939d-9e46-4e51-80a1-560d08ba9a56' title='Show/Hide attributes'><svg class='icon xr-icon-file-text2'><use xlink:href='#icon-file-text2'></use></svg></label><input id='data-501e4bf9-2493-4d4d-8308-ec4c7cf162b0' class='xr-var-data-in' type='checkbox'><label for='data-501e4bf9-2493-4d4d-8308-ec4c7cf162b0' title='Show/Hide data repr'><svg class='icon xr-icon-database'><use xlink:href='#icon-database'></use></svg></label><div class='xr-var-attrs'><dl class='xr-attrs'></dl></div><div class='xr-var-data'><pre>array([[[9136.353  , 9137.497  , 9138.723  , ..., 9154.949  ,\n",
       "         9152.869  , 9151.17   ],\n",
       "        [9127.387  , 9128.267  , 9129.56   , ..., 9145.458  ,\n",
       "         9143.617  , 9142.326  ],\n",
       "        [9107.899  , 9109.126  , 9110.383  , ..., 9125.637  ,\n",
       "         9124.2295 , 9123.1455 ],\n",
       "        ...,\n",
       "        [ 736.04663,  735.869  ,  735.73663, ...,  733.24615,\n",
       "          733.5185 ,  733.829  ],\n",
       "        [ 457.50705,  457.4112 ,  457.31995, ...,  455.6996 ,\n",
       "          455.82803,  455.9666 ],\n",
       "        [ 176.20937,  176.19128,  176.17307, ...,  175.86165,\n",
       "          175.88235,  175.90346]],\n",
       "\n",
       "       [[9143.846  , 9144.417  , 9145.188  , ..., 9158.303  ,\n",
       "         9157.298  , 9157.574  ],\n",
       "        [9135.325  , 9135.736  , 9136.581  , ..., 9148.72   ,\n",
       "         9147.877  , 9147.993  ],\n",
       "        [9116.054  , 9116.738  , 9117.455  , ..., 9129.612  ,\n",
       "         9129.148  , 9128.99   ],\n",
       "...\n",
       "        [ 737.015  ,  736.9474 ,  736.89954, ...,  725.486  ,\n",
       "          725.47253,  725.50726],\n",
       "        [ 457.0361 ,  457.0116 ,  456.99075, ...,  452.33005,\n",
       "          452.3201 ,  452.32614],\n",
       "        [ 175.76747,  175.76505,  175.76236, ...,  175.01283,\n",
       "          175.01173,  175.01164]],\n",
       "\n",
       "       [[9152.831  , 9153.601  , 9154.307  , ..., 9177.096  ,\n",
       "         9176.428  , 9175.797  ],\n",
       "        [9145.126  , 9145.75   , 9146.236  , ..., 9167.63   ,\n",
       "         9166.749  , 9165.763  ],\n",
       "        [9127.585  , 9128.061  , 9128.329  , ..., 9147.203  ,\n",
       "         9146.124  , 9144.921  ],\n",
       "        ...,\n",
       "        [ 734.2283 ,  734.4256 ,  734.63464, ...,  737.38837,\n",
       "          737.2761 ,  737.18634],\n",
       "        [ 455.60513,  455.66605,  455.72946, ...,  456.62033,\n",
       "          456.57556,  456.53754],\n",
       "        [ 175.44823,  175.45422,  175.46037, ...,  175.61407,\n",
       "          175.6084 ,  175.60269]]], dtype=float32)</pre></div></li></ul></div></li><li class='xr-section-item'><input id='section-3f8a6748-f108-4084-a46a-0f323c427e14' class='xr-section-summary-in' type='checkbox' disabled ><label for='section-3f8a6748-f108-4084-a46a-0f323c427e14' class='xr-section-summary'  title='Expand/collapse section'>Attributes: <span>(0)</span></label><div class='xr-section-inline-details'></div><div class='xr-section-details'><dl class='xr-attrs'></dl></div></li></ul></div></div>"
      ],
      "text/plain": [
       "<xarray.Dataset>\n",
       "Dimensions:     (time: 504, lat: 45, lon: 72)\n",
       "Coordinates:\n",
       "  * time        (time) datetime64[ns] 1980-01-01 1980-02-01 ... 2021-12-01\n",
       "  * lat         (lat) float64 0.75 2.75 4.75 6.75 ... 82.75 84.75 86.75 88.75\n",
       "  * lon         (lon) float64 -99.06 -96.56 -94.06 -91.56 ... 73.44 75.94 78.44\n",
       "Data variables:\n",
       "    height_500  (time, lat, lon) float32 9.136e+03 9.137e+03 ... 175.6 175.6"
      ]
     },
     "execution_count": 6,
     "metadata": {},
     "output_type": "execute_result"
    }
   ],
   "source": [
    "# answer cell\n",
    "ds"
   ]
  },
  {
   "cell_type": "markdown",
   "id": "031169c9-ccf5-4468-8ca2-a4d42a9f1159",
   "metadata": {},
   "source": [
    "### Representing the first moments of the geopotential height field\n",
    "\n",
    "> ***Question***\n",
    "> - Compute the mean and the variance of the geopotential height with the `mean` and `var` methods.\n",
    "> - Plot the mean with the `plot` method.\n",
    "> - Do a filled-contour plot of the variance with the `plot.contourf` method."
   ]
  },
  {
   "cell_type": "code",
   "execution_count": 19,
   "id": "34d15ea0-16ed-4866-9ce1-a6756bcd3845",
   "metadata": {},
   "outputs": [
    {
     "data": {
      "text/plain": [
       "<matplotlib.contour.QuadContourSet at 0x7fd9db4dba60>"
      ]
     },
     "execution_count": 19,
     "metadata": {},
     "output_type": "execute_result"
    },
    {
     "data": {
      "image/png": "[encoded data removed]",
      "text/plain": [
       "<Figure size 864x432 with 2 Axes>"
      ]
     },
     "metadata": {
      "needs_background": "light"
     },
     "output_type": "display_data"
    }
   ],
   "source": [
    "# answer cell\n",
    "ds.height_500.mean(axis=0).plot.contourf(levels=12, figsize=(12,6))"
   ]
  },
  {
   "cell_type": "code",
   "execution_count": 20,
   "id": "9c78305e",
   "metadata": {},
   "outputs": [
    {
     "data": {
      "text/plain": [
       "<matplotlib.contour.QuadContourSet at 0x7fd9bbf7b520>"
      ]
     },
     "execution_count": 20,
     "metadata": {},
     "output_type": "execute_result"
    },
    {
     "data": {
      "image/png": "[encoded data removed]",
      "text/plain": [
       "<Figure size 864x432 with 2 Axes>"
      ]
     },
     "metadata": {
      "needs_background": "light"
     },
     "output_type": "display_data"
    }
   ],
   "source": [
    "ds.height_500.var(axis=0).plot.contourf(levels=12, figsize=(12,6))"
   ]
  },
  {
   "cell_type": "markdown",
   "id": "afdf5e41-22c7-4db7-be7b-1c0f1c757435",
   "metadata": {},
   "source": [
    "- A strong part of the wind capacity factor signals is the seasonal cycle.\n",
    "The latter can be estimated from historical data and does not need to be predicted from the geopotential height.\n",
    "We thus remove it from both the geopotential height and the wind capacity factor.\n",
    "- We also keep only the dates that are common to both datasets so as to have pairs of feature and target data points used to solve the supervised learning problem.\n",
    "- Finally, we save the time index and the number of complete years in the dataset for later."
   ]
  },
  {
   "cell_type": "code",
   "execution_count": 21,
   "id": "a062e8e6-551a-4bc4-8dba-9c000e3ac4ea",
   "metadata": {},
   "outputs": [],
   "source": [
    "# Remove seasonal cycle from wind capacity factor\n",
    "da_windcf_reg = df_windcf_reg.to_xarray()                                                                                                                                 \n",
    "gp_windcf_cycle = da_windcf_reg.groupby('time.month')                                                                                                                     \n",
    "da_windcf_anom = gp_windcf_cycle - gp_windcf_cycle.mean('time')                                                                                                           \n",
    "df_windcf_anom = da_windcf_anom.drop('month').to_dataframe()[REGION_NAME]\n",
    "\n",
    "# Remove seasonal cycle from geopotential height or not\n",
    "gp_z500_cycle = da_z500.groupby('time.month')                                                                                                                             \n",
    "da_z500_anom = gp_z500_cycle - gp_z500_cycle.mean('time')\n",
    "\n",
    "# Convert to bandas with grid points as columns                                                                                                                               \n",
    "df_z500_anom = da_z500_anom.stack(latlon=('lat', 'lon')).to_dataframe()[\n",
    "    z500_name].unstack(0).transpose()\n",
    "    \n",
    "# Select common index                                                                                                                                                         \n",
    "idx = df_z500_anom.index.intersection(df_windcf_anom.index)                                                                                                                   \n",
    "df_z500_anom = df_z500_anom.loc[idx]                                                                                                                                          \n",
    "df_windcf_anom = df_windcf_anom.loc[idx]                                                                                                                                      \n",
    "                                                                                                                                                                              \n",
    "# Number of years in dataset                                                                                                                                                  \n",
    "time = df_windcf_anom.index                                                                                                                                                   \n",
    "n_years = time.year.max() - time.year.min() + 1"
   ]
  },
  {
   "cell_type": "markdown",
   "id": "141faaad-71db-480d-af5f-3ce3fc72e505",
   "metadata": {},
   "source": [
    "> ***Question***\n",
    "> - How many years of common data is there?\n",
    "> - Plot the time series of the spatially averaged geopotential height and of the national wind capacity factor.\n",
    "> - Compute the correlation between the spatial average of the geopotential height and the wind capacity factor."
   ]
  },
  {
   "cell_type": "code",
   "execution_count": 22,
   "id": "194132f9-47cb-4c68-b047-8607a2b918f7",
   "metadata": {},
   "outputs": [
    {
     "data": {
      "text/plain": [
       "8"
      ]
     },
     "execution_count": 22,
     "metadata": {},
     "output_type": "execute_result"
    }
   ],
   "source": [
    "# answer cell\n",
    "n_years "
   ]
  },
  {
   "cell_type": "code",
   "execution_count": 62,
   "id": "753d9b73",
   "metadata": {},
   "outputs": [
    {
     "data": {
      "text/plain": [
       "<AxesSubplot:xlabel='time'>"
      ]
     },
     "execution_count": 62,
     "metadata": {},
     "output_type": "execute_result"
    },
    {
     "data": {
      "image/png": "[encoded data removed]",
      "text/plain": [
       "<Figure size 432x288 with 1 Axes>"
      ]
     },
     "metadata": {
      "needs_background": "light"
     },
     "output_type": "display_data"
    }
   ],
   "source": [
    "# Time series of geopotential height and national wind capacity factor\n",
    "df_z500_anom.mean(axis=1).plot()"
   ]
  },
  {
   "cell_type": "code",
   "execution_count": 66,
   "id": "e6034e00",
   "metadata": {},
   "outputs": [
    {
     "data": {
      "text/plain": [
       "<AxesSubplot:xlabel='time'>"
      ]
     },
     "execution_count": 66,
     "metadata": {},
     "output_type": "execute_result"
    },
    {
     "data": {
      "image/png": "[encoded data removed]",
      "text/plain": [
       "<Figure size 432x288 with 1 Axes>"
      ]
     },
     "metadata": {
      "needs_background": "light"
     },
     "output_type": "display_data"
    }
   ],
   "source": [
    "df_windcf_anom.plot()"
   ]
  },
  {
   "cell_type": "code",
   "execution_count": 67,
   "id": "622dfc7e",
   "metadata": {},
   "outputs": [
    {
     "data": {
      "text/plain": [
       "array([[1.        , 0.16309993],\n",
       "       [0.16309993, 1.        ]])"
      ]
     },
     "execution_count": 67,
     "metadata": {},
     "output_type": "execute_result"
    }
   ],
   "source": [
    "np.corrcoef(df_windcf_anom,df_z500_anom.mean(axis=1))"
   ]
  },
  {
   "cell_type": "code",
   "execution_count": 70,
   "id": "1e910970",
   "metadata": {},
   "outputs": [
    {
     "data": {
      "text/plain": [
       "<matplotlib.collections.PathCollection at 0x7fd9b5f10e20>"
      ]
     },
     "execution_count": 70,
     "metadata": {},
     "output_type": "execute_result"
    },
    {
     "data": {
      "image/png": "[encoded data removed]",
      "text/plain": [
       "<Figure size 432x288 with 1 Axes>"
      ]
     },
     "metadata": {
      "needs_background": "light"
     },
     "output_type": "display_data"
    }
   ],
   "source": [
    "plt.scatter(df_windcf_anom,df_z500_anom.mean(axis=1))"
   ]
  },
  {
   "cell_type": "markdown",
   "id": "e3a2060b",
   "metadata": {},
   "source": [
    "## Regularization\n",
    "\n",
    "We want to learn to predict the national wind capacity factor from the geopotential height at different grid points using a linear model.\n",
    "\n",
    "Since the number of input variables, we need to take care of avoiding overfitting.\n",
    "\n",
    "To do so, we apply different regularization techniques.\n",
    "\n",
    "### Ridge regression"
   ]
  },
  {
   "cell_type": "markdown",
   "id": "368696ba",
   "metadata": {},
   "source": [
    "> ***Question***\n",
    "> - Apply the ridge regression using `Ridge` from `sklearn.linear_model` to predict the national wind capacity factor from the geopotential height field for an arbitrary regularization parameter value of `10^5`.\n",
    "> - Plot the histogram estimate of the probability density function of the model coefficients and print the intercept.\n",
    "> - How does the distribution of the coefficients change when you increase or decrease the regularization coefficient?\n",
    "> - Explain this behavior based on what you have learned in class."
   ]
  },
  {
   "cell_type": "code",
   "execution_count": 69,
   "id": "8eb7928b",
   "metadata": {},
   "outputs": [],
   "source": [
    "# answer cell"
   ]
  },
  {
   "cell_type": "markdown",
   "id": "b5eadf0c",
   "metadata": {},
   "source": [
    "Answer:"
   ]
  },
  {
   "cell_type": "markdown",
   "id": "ab75ecbf",
   "metadata": {},
   "source": [
    "> ***Question***\n",
    "> - Compute the corresponding validation curves. To do so:\n",
    ">   - Leave aside a year or more of test data (it will be used later to test the model with regularization).\n",
    ">   - Compute and plot the train and validation error (using cross-validation) for varying values of the regularization parameter.\n",
    "> - What is the best value of the regularization parameter according to your estimations?\n",
    "> - Is there any overfitting and/or underfitting occurring here?"
   ]
  },
  {
   "cell_type": "code",
   "execution_count": null,
   "id": "e6726899",
   "metadata": {},
   "outputs": [],
   "source": [
    "# answer cell\n"
   ]
  },
  {
   "cell_type": "markdown",
   "id": "1f1ee1b8",
   "metadata": {},
   "source": [
    "Answer:"
   ]
  },
  {
   "cell_type": "markdown",
   "id": "3c33cbd9",
   "metadata": {},
   "source": [
    "> ***Question***\n",
    "> - Compare the distribution of the model coefficients for the best value of the regularization parameter to that of the ordinary least squares coefficients."
   ]
  },
  {
   "cell_type": "code",
   "execution_count": null,
   "id": "329001f3",
   "metadata": {},
   "outputs": [],
   "source": [
    "# answer cell\n"
   ]
  },
  {
   "cell_type": "markdown",
   "id": "0bd7908b-4256-4212-b3e6-788ecfa78e9e",
   "metadata": {},
   "source": [
    "Answer: "
   ]
  },
  {
   "cell_type": "markdown",
   "id": "0db84b0c",
   "metadata": {},
   "source": [
    "> ***Question***\n",
    "> - Give an estimate the prediction error conditioned on some train dataset for the best choice or regularization parameter value.\n",
    "> - Compare the test value of the score to its validation value.\n",
    "> - Evaluate and discuss the sensitivity of the test score to the number of test years retained."
   ]
  },
  {
   "cell_type": "code",
   "execution_count": null,
   "id": "4625c18a",
   "metadata": {},
   "outputs": [],
   "source": [
    "# answer cell\n"
   ]
  },
  {
   "cell_type": "markdown",
   "id": "b8d90a66",
   "metadata": {},
   "source": [
    "Answer:"
   ]
  },
  {
   "cell_type": "markdown",
   "id": "1bc872a0-3efa-4afc-acf0-1738bbf8b87d",
   "metadata": {},
   "source": [
    "> ***Question (optional)***\n",
    "> - Use nested cross-validation to estimated the expected prediction error for the best choice of regularization parameter value.\n",
    "> - How does the this value of the test score compare with the one conditionned on a few years of data computed in the previous section? Discuss this result."
   ]
  },
  {
   "cell_type": "code",
   "execution_count": null,
   "id": "b4602c59-1f6d-45dc-a33f-e604b82c7782",
   "metadata": {},
   "outputs": [],
   "source": [
    "# answer cell\n"
   ]
  },
  {
   "cell_type": "markdown",
   "id": "9b2eab01-6de7-4be1-bcaf-213af826befc",
   "metadata": {},
   "source": [
    "Answer:"
   ]
  },
  {
   "cell_type": "markdown",
   "id": "159549b6",
   "metadata": {},
   "source": [
    "### Lasso regression"
   ]
  },
  {
   "cell_type": "markdown",
   "id": "f58adf42",
   "metadata": {},
   "source": [
    "> ***Question***\n",
    "> - Same questions as for the ridge but for the Lasso (using `Lasso` from `sklearn.linear_model`).\n",
    "> - How do the coefficients evolve compared to the Ridge?"
   ]
  },
  {
   "cell_type": "code",
   "execution_count": null,
   "id": "0cb71152",
   "metadata": {},
   "outputs": [],
   "source": [
    "# answer cell\n"
   ]
  },
  {
   "cell_type": "markdown",
   "id": "77d5da37",
   "metadata": {},
   "source": [
    "Answer:"
   ]
  },
  {
   "cell_type": "markdown",
   "id": "cc7cf895",
   "metadata": {},
   "source": [
    "## $K$-nearest neighbor model\n",
    "\n",
    "> ***Question (optional)***\n",
    "> - Compute and plot the validation curve for the $k$-nearest neighbor model using `KNeighborsRegressor` from `sklearn.neighbors` for varying number of neighbors.\n",
    "> - For which value of $k$ is the score best? Represent the best prediction above the scatter plot of the train data.\n",
    "> - Is there any overfitting occurring?\n",
    "> - How does the best $k$-nearest neighbor model performs compared to the linear models analyzed so far?"
   ]
  },
  {
   "cell_type": "code",
   "execution_count": null,
   "id": "28f7c10a",
   "metadata": {
    "code_folding": []
   },
   "outputs": [],
   "source": [
    "# answer cell\n"
   ]
  },
  {
   "cell_type": "markdown",
   "id": "6b1158e7",
   "metadata": {},
   "source": [
    "Answer:"
   ]
  },
  {
   "cell_type": "markdown",
   "id": "cf5e9e04",
   "metadata": {},
   "source": [
    "***\n",
    "## Credit\n",
    "\n",
    "[//]: # \"This notebook is part of [E4C Interdisciplinary Center - Education](https://gitlab.in2p3.fr/energy4climate/public/education).\"\n",
    "Contributors include Bruno Deremble and Alexis Tantet.\n",
    "Several slides and images are taken from the very good [Scikit-learn course](https://inria.github.io/scikit-learn-mooc/).\n",
    "\n",
    "<br>\n",
    "\n",
    "<div style=\"display: flex; height: 70px\">\n",
    "    \n",
    "<img alt=\"Logo LMD\" src=\"images/logos/logo_lmd.jpg\" style=\"display: inline-block\"/>\n",
    "\n",
    "<img alt=\"Logo IPSL\" src=\"images/logos/logo_ipsl.png\" style=\"display: inline-block\"/>\n",
    "\n",
    "<img alt=\"Logo E4C\" src=\"images/logos/logo_e4c_final.png\" style=\"display: inline-block\"/>\n",
    "\n",
    "<img alt=\"Logo EP\" src=\"images/logos/logo_ep.png\" style=\"display: inline-block\"/>\n",
    "\n",
    "<img alt=\"Logo SU\" src=\"images/logos/logo_su.png\" style=\"display: inline-block\"/>\n",
    "\n",
    "<img alt=\"Logo ENS\" src=\"images/logos/logo_ens.jpg\" style=\"display: inline-block\"/>\n",
    "\n",
    "<img alt=\"Logo CNRS\" src=\"images/logos/logo_cnrs.png\" style=\"display: inline-block\"/>\n",
    "    \n",
    "</div>\n",
    "\n",
    "<hr>\n",
    "\n",
    "<div style=\"display: flex\">\n",
    "    <a rel=\"license\" href=\"http://creativecommons.org/licenses/by-sa/4.0/\"><img alt=\"Creative Commons License\" style=\"border-width:0; margin-right: 10px\" src=\"https://i.creativecommons.org/l/by-sa/4.0/88x31.png\" /></a>\n",
    "    <br>This work is licensed under a &nbsp; <a rel=\"license\" href=\"http://creativecommons.org/licenses/by-sa/4.0/\">Creative Commons Attribution-ShareAlike 4.0 International License</a>.\n",
    "</div>"
   ]
  }
 ],
 "metadata": {
  "kernelspec": {
   "display_name": "Python 3 (ipykernel)",
   "language": "python",
   "name": "python3"
  },
  "language_info": {
   "codemirror_mode": {
    "name": "ipython",
    "version": 3
   },
   "file_extension": ".py",
   "mimetype": "text/x-python",
   "name": "python",
   "nbconvert_exporter": "python",
   "pygments_lexer": "ipython3",
   "version": "3.9.12"
  },
  "latex_envs": {
   "LaTeX_envs_menu_present": true,
   "autoclose": true,
   "autocomplete": false,
   "bibliofile": "biblio.bib",
   "cite_by": "apalike",
   "current_citInitial": 1,
   "eqLabelWithNumbers": true,
   "eqNumInitial": 1,
   "hotkeys": {
    "equation": "Ctrl-E",
    "itemize": "Ctrl-I"
   },
   "labels_anchors": false,
   "latex_user_defs": false,
   "report_style_numbering": false,
   "user_envs_cfg": false
  },
  "toc": {
   "base_numbering": 1,
   "nav_menu": {},
   "number_sections": true,
   "sideBar": true,
   "skip_h1_title": false,
   "title_cell": "Table of Contents",
   "title_sidebar": "Contents",
   "toc_cell": false,
   "toc_position": {},
   "toc_section_display": true,
   "toc_window_display": false
  },
  "varInspector": {
   "cols": {
    "lenName": 16,
    "lenType": 16,
    "lenVar": 40
   },
   "kernels_config": {
    "python": {
     "delete_cmd_postfix": "",
     "delete_cmd_prefix": "del ",
     "library": "var_list.py",
     "varRefreshCmd": "print(var_dic_list())"
    },
    "r": {
     "delete_cmd_postfix": ") ",
     "delete_cmd_prefix": "rm(",
     "library": "var_list.r",
     "varRefreshCmd": "cat(var_dic_list()) "
    }
   },
   "types_to_exclude": [
    "module",
    "function",
    "builtin_function_or_method",
    "instance",
    "_Feature"
   ],
   "window_display": false
  }
 },
 "nbformat": 4,
 "nbformat_minor": 5
}
