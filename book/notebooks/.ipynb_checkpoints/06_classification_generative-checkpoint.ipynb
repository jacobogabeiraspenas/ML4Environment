{
 "cells": [
  {
   "cell_type": "markdown",
   "id": "5eb8c31b",
   "metadata": {
    "slideshow": {
     "slide_type": "slide"
    }
   },
   "source": [
    "# Classification I: Generative models\n",
    "\n",
    "[![Binder](https://mybinder.org/badge_logo.svg)](https://mybinder.org/v2/git/https%3A%2F%2Fgitlab.in2p3.fr%2Fenergy4climate%2Fpublic%2Feducation%2Fmachine_learning_for_climate_and_energy/master?filepath=book%2Fnotebooks%2F05_classification_generative.ipynb)"
   ]
  },
  {
   "cell_type": "markdown",
   "id": "3a485dc1",
   "metadata": {
    "slideshow": {
     "slide_type": "subslide"
    }
   },
   "source": [
    "<div class=\"alert alert-block alert-warning\">\n",
    "    <b>Prerequisites</b>\n",
    "    \n",
    "- Bayes Theorem\n",
    "\n",
    "</div>"
   ]
  },
  {
   "cell_type": "markdown",
   "id": "8790b2ae",
   "metadata": {
    "slideshow": {
     "slide_type": "subslide"
    }
   },
   "source": [
    "<div class=\"alert alert-block alert-info\">\n",
    "    <b>Learning Outcomes</b>\n",
    "    \n",
    "- Bayes decision boundary\n",
    "- Linear discriminant analysis\n",
    "- Naive Bayses classifier\n",
    "    \n",
    "</div>"
   ]
  },
  {
   "cell_type": "markdown",
   "id": "4ed73093",
   "metadata": {
    "slideshow": {
     "slide_type": "slide"
    }
   },
   "source": [
    "## Introduction"
   ]
  },
  {
   "cell_type": "markdown",
   "id": "c73be024",
   "metadata": {
    "slideshow": {
     "slide_type": "subslide"
    }
   },
   "source": [
    "Weather, clouds, seasons, wind, hurricane... Categories and classifications are everywhere in environmental sciences. They can be artificially created based on thresholds (as in the hurricane example below) or they can correspond to truly **discrete variable** (e.g. \"It's raining, it's not raining\").\n",
    "\n",
    "\n",
    "<img alt=\"saphir\" src=\"images/saphir_scale.png\" width=400 style=\"float:center\">"
   ]
  },
  {
   "cell_type": "markdown",
   "id": "6d377e6d",
   "metadata": {},
   "source": [
    "To use proper terminology, we say that categorical variables are **qualitative** (can be described with words) whereas variables that reflect a notion of magnitude are **quantitative** (can be measured).\n",
    "\n",
    "In the example above, you can describe with words what a hurricane of category 3 is. However, you cannot describe what a wind of 100 km/h is."
   ]
  },
  {
   "cell_type": "markdown",
   "id": "d8b1dc61",
   "metadata": {
    "slideshow": {
     "slide_type": "subslide"
    }
   },
   "source": [
    "### Weather icons\n",
    "\n",
    "- We have already derived methods to predict *quantitative* variables (variables that vary continuously).\n",
    "- In many problems however, the variable we are trying to predict is *qualitative* (takes discrete values).\n",
    "- Complex meteorological situation often summarized by a pictogram/a warning, e.g. Cat 5, hurricane, storm warning...\n",
    "- Helps establishing an appropriate response plan based on the forecast. "
   ]
  },
  {
   "cell_type": "markdown",
   "id": "ea58eb24",
   "metadata": {
    "slideshow": {
     "slide_type": "subslide"
    }
   },
   "source": [
    "#### Illustration of the transition between quantitative and qualitative variables\n",
    "\n",
    "<div style=\"float:left; width:100%\">\n",
    "<img alt=\"weather\" src=\"images/weather.png\" style=\"float:left\">\n",
    "<img alt=\"Weather icons\" src=\"images/weather-icons.jpg\" style=\"float:right\">\n",
    "</div>\n",
    "    \n",
    "**Figure:** Weather map for a given day and the corresponding weather icons that one can use to produce a weather report."
   ]
  },
  {
   "cell_type": "markdown",
   "id": "ebf19950",
   "metadata": {
    "slideshow": {
     "slide_type": "subslide"
    }
   },
   "source": [
    "### Rain prediction\n",
    "\n",
    "<div style=\"float:left; width:55%\">\n",
    " <ul>\n",
    "     <li>Predicting the rain remains a challenge.</li>\n",
    "    <li>It results from multi-scale phenomena:</li>\n",
    "     <ul>\n",
    "        <li>from the large-scale organization of weather system</li>\n",
    "        <li>to the small scale microphysics of dropplet formation.</li>\n",
    "     </ul>\n",
    "    <li>Dynamical models attempt to capture all these scales.</li>\n",
    "     <li>Yet, apparent correspondance between <em>surface pressure</em> and <em>weather<em>.</li>\n",
    "    </ul>\n",
    "</div>\n",
    "\n",
    "<div style=\"float:right; width:45%\">\n",
    "<img alt=\"Barometer\" src=\"images/barometer.jpg\" width=\"100%\">\n",
    "</div>"
   ]
  },
  {
   "cell_type": "markdown",
   "id": "5ab2a075",
   "metadata": {
    "slideshow": {
     "slide_type": "slide"
    }
   },
   "source": [
    "## Context\n",
    "\n",
    "### Bayes Decision boundary"
   ]
  },
  {
   "cell_type": "markdown",
   "id": "aedbb5c1",
   "metadata": {
    "slideshow": {
     "slide_type": "subslide"
    }
   },
   "source": [
    "Let $\\boldsymbol{X}$ be a multivariate random vector describing the state of the atmosphere.\n",
    "\n",
    "**Problem:** classify the current weather into a category $C$ within a set of $K$ categories.\n",
    "\n",
    "**Example:**\n",
    "  - Let $\\boldsymbol{X}$ represent pressure and temperature.\n",
    "  - We are given two categories:\n",
    "    - $k=0$: not raining, \n",
    "    - $k=1$: raining.\n",
    "  - $k\\in\\{0,1\\}$ is a realization of the random variable $C$ (with $K = 2$)."
   ]
  },
  {
   "cell_type": "markdown",
   "id": "45ed06b5",
   "metadata": {
    "slideshow": {
     "slide_type": "subslide"
    }
   },
   "source": [
    "Like regression, this is a *supervised learning problem*, but with a discrete target instead of a continuous one.\n",
    "\n",
    "We want to learn the conditional probability distribution $P(k | \\boldsymbol x)$ for all $k$ and $\\boldsymbol x$ from a training dataset $(\\boldsymbol x_i, k_i), 1 \\le i \\le N$.\n",
    "\n",
    "Each $x_i$ is an input and each $k_i$ a target class.\n",
    "\n",
    "See [Supervised Learning Problem](02_supervised_learning_problem.ipynb)."
   ]
  },
  {
   "cell_type": "markdown",
   "id": "2c7723a7",
   "metadata": {
    "slideshow": {
     "slide_type": "subslide"
    }
   },
   "source": [
    "The $X_j, 1 \\le j \\le p$ and $C$ are random variables, but the former are continuous and the latter discrete.\n",
    "\n",
    "Hence, there exist a joint Probability Distribution Function (PDF) \n",
    "\n",
    "\\begin{equation}\n",
    "f_\\boldsymbol{X}(\\boldsymbol{x})\n",
    "\\end{equation}\n",
    "\n",
    "that describes how likely it is to observe weather $\\boldsymbol{x}$.\n",
    "\n",
    "There also exists a discrete probability distribution\n",
    "\n",
    "\\begin{equation}\n",
    "P(C=k)\n",
    "\\end{equation}\n",
    "\n",
    "to observe either event $k = 0$ or $k = 1$."
   ]
  },
  {
   "cell_type": "markdown",
   "id": "8f244bbc",
   "metadata": {
    "slideshow": {
     "slide_type": "subslide"
    }
   },
   "source": [
    "> ***Question***\n",
    "> - What are the two conditions required for $f_\\boldsymbol{X}$ to be a PDF?"
   ]
  },
  {
   "cell_type": "markdown",
   "id": "75ad0c86",
   "metadata": {
    "slideshow": {
     "slide_type": "subslide"
    }
   },
   "source": [
    "<hr>\n",
    "\n",
    "**Bayes classifier**\n",
    "<br>\n",
    "The classifier that assigns to $\\boldsymbol{x}_i$ the class $k$ that is most probable given $\\boldsymbol{x}_i$.\n",
    "\n",
    "<hr>\n",
    "\n",
    "**Underlying problem:** For a given $\\boldsymbol{x}_i$, estimate the probability of events $k$, i.e\n",
    "\n",
    "\\begin{equation}\n",
    "    P(C = k | \\boldsymbol{X} = \\boldsymbol{x}_i)\\, .\n",
    "\\end{equation}"
   ]
  },
  {
   "cell_type": "markdown",
   "id": "7dfece5a",
   "metadata": {
    "slideshow": {
     "slide_type": "subslide"
    }
   },
   "source": [
    "<hr>\n",
    "\n",
    "**Bayes Decision Boundary**\n",
    "<br>\n",
    "The set of points $\\boldsymbol{x}$ such that\n",
    "\n",
    "\\begin{equation}\n",
    "    P(C = 0 | \\boldsymbol X = \\boldsymbol{x}) = P(C = 1 | \\boldsymbol X = \\boldsymbol x)\\, ,\n",
    "\\end{equation}\n",
    "\n",
    "i.e the part of the input domain for which the conditional probability of belonging to each class is equal.\n",
    "\n",
    "<hr>\n",
    "\n",
    "**Underlying problem:** find this separation boundary.\n",
    "\n",
    "<hr>\n",
    "\n",
    "**Linear Classifiers**\n",
    "<br>\n",
    "Classifiers for which the separation is given by a linear equation in $\\boldsymbol x$.\n",
    "\n",
    "<hr>"
   ]
  },
  {
   "cell_type": "markdown",
   "id": "0d2a2cc9",
   "metadata": {
    "slideshow": {
     "slide_type": "subslide"
    }
   },
   "source": [
    "**Example:** provide a classification rain/no rain given the pressure predictor $x$.\n",
    "\n",
    "From our observations, we have an estimate of the probability of rain/no rain conditionned on pressure.\n",
    "\n",
    "We plot these conditional probabilities in the following figure."
   ]
  },
  {
   "cell_type": "code",
   "execution_count": 16,
   "id": "7173a202",
   "metadata": {
    "slideshow": {
     "slide_type": "subslide"
    },
    "tags": [
     "hide-input"
    ]
   },
   "outputs": [
    {
     "data": {
      "image/png": "[encoded data removed]",
      "text/plain": [
       "<Figure size 432x288 with 1 Axes>"
      ]
     },
     "metadata": {
      "needs_background": "light"
     },
     "output_type": "display_data"
    }
   ],
   "source": [
    "import numpy as np\n",
    "import matplotlib.pyplot as plt\n",
    "plt.rc('font', size=14)\n",
    "\n",
    "# figure inspired from https://www.astroml.org/book_figures/chapter9/fig_bayes_DB.html\n",
    "def gaussian(x, mu, sigma):\n",
    "  return 1 / (np.sqrt(2 * np.pi) * sigma) * np.exp(-((x - mu) / sigma)**2 / 2)\n",
    "\n",
    "pressure = np.linspace(-5, 10, 1000) # pressure distribution (fake units)\n",
    "\n",
    "p_rain = 0.3  # probability that it is raining\n",
    "p_norain = 1 - p_rain  # probability that it is not raining\n",
    "\n",
    "pdf_rain   = p_rain * gaussian(pressure, -1, 1)\n",
    "pdf_norain = p_norain * gaussian(pressure, 2, 2)\n",
    "\n",
    "pressure_bayes = pressure[np.where(pdf_rain > pdf_norain)][-1]\n",
    "ylim = [0, 0.15]\n",
    "\n",
    "plt.plot(pressure, pdf_rain, label='Rain')\n",
    "plt.plot(pressure, pdf_norain, label='No rain')\n",
    "plt.plot([pressure_bayes, pressure_bayes], ylim, 'k--', label='Bayes decision point')\n",
    "\n",
    "plt.xlabel('Pressure $x$ (fake units)')\n",
    "plt.ylabel('Conditional probability')\n",
    "plt.xlim(pressure[[0, -1]])\n",
    "plt.ylim(ylim)\n",
    "_ = plt.legend(loc=[1.03, 0.67])"
   ]
  },
  {
   "cell_type": "markdown",
   "id": "bbe01480",
   "metadata": {
    "slideshow": {
     "slide_type": "subslide"
    }
   },
   "source": [
    "We see that :\n",
    " - when $x < 0$, it is more likely to be raining,\n",
    " - when $x > 0$, it is more likely to be a sunny day.\n",
    " \n",
    "The point $x = 0$ is the *Bayes decision boundary*.\n",
    "\n",
    "It correspond to the pressure $x_0$ such that\n",
    "\n",
    "\\begin{equation}\n",
    "    P(k = 1 | x = x_0) = P(k = 0 | x = x_0)\\, .\n",
    "\\end{equation}\n",
    "\n",
    "The Bayes classifier $G$ assigns all days for which $x < x_0$ to $k = 1$ and all other days to $k = 0$."
   ]
  },
  {
   "cell_type": "markdown",
   "id": "81ebb9d2",
   "metadata": {
    "slideshow": {
     "slide_type": "subslide"
    }
   },
   "source": [
    "Note however that:\n",
    "- there are days without rain for which $x < x_0$ and\n",
    "- there are rainy days for which $x > x_0$.\n",
    "\n",
    "The Bayes classifier $G$ is sometimes wrong!"
   ]
  },
  {
   "cell_type": "markdown",
   "id": "d30804a8",
   "metadata": {
    "slideshow": {
     "slide_type": "subslide"
    }
   },
   "source": [
    "<hr>\n",
    "\n",
    "**Misclassification Probability**\n",
    "<br>\n",
    "The *misclassification probability*, or risk, of the classifier $G$ is\n",
    "\n",
    "\\begin{equation}\n",
    "    P(G(\\boldsymbol X) \\ne C)\\, ,\n",
    "\\end{equation}\n",
    "\n",
    "where $G(\\boldsymbol x)$ is the class predicted by $G$ given $\\boldsymbol x$.\n",
    "\n",
    "<hr>"
   ]
  },
  {
   "cell_type": "markdown",
   "id": "9bbbdc73",
   "metadata": {
    "slideshow": {
     "slide_type": "subslide"
    }
   },
   "source": [
    "<hr>\n",
    "\n",
    "**Proposition**\n",
    "<br>\n",
    "\n",
    "The Bayes classifier minimizes the misclassification probability.\n",
    "\n",
    "<hr>\n",
    "\n",
    "This is nice, BUT...\n",
    "\n",
    "...applying the Bayes classifier requires knowing the *true* conditional probability distributions of all categories.\n",
    "\n",
    "We never know them in practice..."
   ]
  },
  {
   "cell_type": "markdown",
   "id": "a44b8eb4",
   "metadata": {
    "slideshow": {
     "slide_type": "slide"
    }
   },
   "source": [
    "## Bayes theorem"
   ]
  },
  {
   "cell_type": "markdown",
   "id": "112bce5b",
   "metadata": {
    "slideshow": {
     "slide_type": "subslide"
    }
   },
   "source": [
    "**Issue:** The direct conditional probability $P(C = k | X = \\boldsymbol x)$ is often hard to estimate from sparse data.\n",
    "\n",
    "**Idea:** Use Bayes' theorem to relate it to $f_{ \\boldsymbol X | C}(\\boldsymbol x | k)$."
   ]
  },
  {
   "cell_type": "markdown",
   "id": "72d02ae5",
   "metadata": {
    "slideshow": {
     "slide_type": "subslide"
    }
   },
   "source": [
    "<hr>\n",
    "\n",
    "**Bayes theorem**\n",
    "<br>\n",
    "\n",
    "\\begin{equation}\n",
    "P(C=k| \\boldsymbol X = \\boldsymbol x) = \\frac{f_{ \\boldsymbol X | C}(\\boldsymbol x | k) P(C = k)}{f_{\\boldsymbol X}(\\boldsymbol x)}\n",
    "\\end{equation}\n",
    "\n",
    "for all $\\boldsymbol x \\in \\mathbb R^p$ and $k \\in \\{0, \\ldots K - 1\\}$ and where \n",
    "\n",
    "- $k \\mapsto f_{\\boldsymbol X|C}(\\boldsymbol x | k)$ is called the *likelihood function*,\n",
    "- $P(C = k)$ is the *prior* probability of observing some event $k$,\n",
    "- $f_{\\boldsymbol X}(\\boldsymbol x) = \\sum_{k = 0}^{K - 1} f_{ \\boldsymbol X | C}(\\boldsymbol x | k) P(C = k)$ is the input marginal PDF.\n",
    "\n",
    "<hr>"
   ]
  },
  {
   "cell_type": "markdown",
   "id": "fed2813a",
   "metadata": {
    "slideshow": {
     "slide_type": "subslide"
    }
   },
   "source": [
    "### Caution with the likelihood\n",
    "\n",
    "Given $k$, the *class density* $\\boldsymbol x \\mapsto f_{\\boldsymbol X|C}(\\boldsymbol x | k)$ is the probability density of observing $\\boldsymbol x$ given $C = k$.\n",
    "\n",
    "It is indeed a function of $\\boldsymbol x$ satisfying the two conditions of a PDF.\n",
    "\n",
    "However, if we consider that $\\boldsymbol x$ is given and $k$ is variable, then $k \\mapsto f_{\\boldsymbol X|C}(\\boldsymbol x | k)$ is a function of $k$ and is no longer a probability: we call it a *likelihood*."
   ]
  },
  {
   "cell_type": "markdown",
   "id": "6dda13b1",
   "metadata": {
    "slideshow": {
     "slide_type": "subslide"
    }
   },
   "source": [
    "> ***Question***\n",
    "> - We observe a temperature of the atmosphere of 3°C on a discrete scale. What does the likelihood of a rain/no rain random variable describe?\n",
    "> - Does $P(3°C | \\rm rain)$ and $P(3°C | \\rm no~rain)$ sum up to 1?"
   ]
  },
  {
   "cell_type": "markdown",
   "id": "00fada9f",
   "metadata": {
    "slideshow": {
     "slide_type": "subslide"
    }
   },
   "source": [
    "### Prior\n",
    "\n",
    "The prior $P(C=k)$, as its name indicates, is the probability of observing $C=k$ without any other information."
   ]
  },
  {
   "cell_type": "markdown",
   "id": "1b23c210",
   "metadata": {
    "slideshow": {
     "slide_type": "subslide"
    }
   },
   "source": [
    "> ***Question***\n",
    "> - Can you relate the joint probability density $f_{\\boldsymbol X, C}(\\boldsymbol x, k)$ to $f_{\\boldsymbol X | C}(\\boldsymbol x | k)$ and $P(C=k)$ to show that the latter is a normalization factor in the Bayes theorem."
   ]
  },
  {
   "cell_type": "markdown",
   "id": "1c6b8956",
   "metadata": {
    "slideshow": {
     "slide_type": "slide"
    }
   },
   "source": [
    "## Generative models"
   ]
  },
  {
   "cell_type": "markdown",
   "id": "549dab38",
   "metadata": {
    "slideshow": {
     "slide_type": "subslide"
    }
   },
   "source": [
    "<hr>\n",
    "\n",
    "**Generative Models**\n",
    "<br>\n",
    "Classification models based on the estimation of the class densities\n",
    "\n",
    "\\begin{equation}\n",
    "    \\boldsymbol x  \\mapsto f_{\\boldsymbol X | C}(\\boldsymbol x | k)\\, ,\n",
    "\\end{equation}\n",
    "\n",
    "for all $k$.\n",
    "\n",
    "<hr>\n",
    "\n",
    "Once we have a model for these densities, we can use Bayes' theorem to infer the conditional probability distribution of the classes, namely \n",
    "\n",
    "\\begin{equation}\n",
    "P(C = k | \\boldsymbol X = \\boldsymbol x)\\, ,\n",
    "\\end{equation}\n",
    "\n",
    "from which the decision boundary can be drawn."
   ]
  },
  {
   "cell_type": "markdown",
   "id": "91663741",
   "metadata": {
    "slideshow": {
     "slide_type": "subslide"
    }
   },
   "source": [
    "#### Examples of generative models\n",
    "\n",
    "- Linear and quadratic discriminant analysis (based on Gaussian densities),\n",
    "- more flexible mixtures of Gaussians to allow for nonlinear boundaries,\n",
    "- general nonparametric density estimates to provide more flexibility,\n",
    "- Naive Bayes models which are a variant of the previous case and assume that each of the class densities are products of marginal densities (conditional independence)."
   ]
  },
  {
   "cell_type": "markdown",
   "id": "4f3585cd",
   "metadata": {
    "slideshow": {
     "slide_type": "subslide"
    }
   },
   "source": [
    "### Linear Discriminant Analysis (LDA)\n",
    "\n",
    "**Idea:** Assume that:\n",
    "  - all class densities $\\boldsymbol x  \\mapsto f_{\\boldsymbol X | C}(\\boldsymbol x | k)$ are multivariate Gaussian and\n",
    "  - the classes have a common covariance matrix $\\mathbf \\Sigma_k = \\mathbf \\Sigma$\n",
    "  \n",
    "for all $k$."
   ]
  },
  {
   "cell_type": "markdown",
   "id": "ec16664d",
   "metadata": {
    "slideshow": {
     "slide_type": "subslide"
    }
   },
   "source": [
    "#### Case with 1 predictor (p=1)\n",
    "\n",
    "First consider the case where there is only 1 predictor, that is $\\boldsymbol x$ is a scalar (that we thus write $x$)."
   ]
  },
  {
   "cell_type": "markdown",
   "id": "3e025363",
   "metadata": {
    "slideshow": {
     "slide_type": "subslide"
    }
   },
   "source": [
    "In LDA, we assume that, for each class, the data is distributed according to the *Gaussian distribution*\n",
    "\n",
    "\\begin{equation}\n",
    "\\hat f_{X|C}(x | k) = \\frac{1}{\\sqrt{2\\pi}\\sigma} \\exp \\left(  -\\frac{1}{2} \\frac{(x-\\mu_k)^2}{\\sigma^2}\\right)\\, .\n",
    "\\end{equation}\n",
    "\n",
    "That is $f_{X|C}(x | k) \\sim \\mathcal N (\\mu_k,\\sigma^2)$ where the means $\\mu_k$ are specific to each class, but the variance is common to all classes.\n",
    "\n",
    "**LDA problem for $p = 1$:** Estimate $\\sigma^2$ and $\\mu_k$ for all $k$."
   ]
  },
  {
   "cell_type": "markdown",
   "id": "df7cbd8c",
   "metadata": {
    "slideshow": {
     "slide_type": "subslide"
    }
   },
   "source": [
    "#### Learning LDA\n",
    "\n",
    "We are given a training set $(\\boldsymbol x_i, k_i), 1 \\le i \\le N$.\n",
    "\n",
    "To estimate the parameters $\\mu_k$ and $\\sigma^2$, suppose that we have $N_k$ observations in each class (with a total of $N$ observations)."
   ]
  },
  {
   "cell_type": "markdown",
   "id": "8f9f1cbe",
   "metadata": {
    "slideshow": {
     "slide_type": "subslide"
    }
   },
   "source": [
    "We gather all the observations that belong to a class $k$ to compute the mean and variance of the class: \n",
    "\n",
    "\\begin{equation}\n",
    "\\hat \\mu_k = \\frac{1}{N_k} \\sum_{i, k_i = k} x_i\n",
    "\\end{equation}\n",
    "\n",
    "\\begin{equation}\n",
    "\\hat \\sigma_k^2 = \\frac{1}{N_k-1} \\sum_{i, k_i = k} (x_i - \\hat \\mu_k)^2\n",
    "\\end{equation}\n",
    "\n",
    "where the sums are over all the $i$'s such that the target class is $k$."
   ]
  },
  {
   "cell_type": "markdown",
   "id": "a7f2ad5e",
   "metadata": {
    "slideshow": {
     "slide_type": "subslide"
    }
   },
   "source": [
    "The unbiased sample estimate of the variance can be written as a weighted average of the class variances\n",
    "\n",
    "\\begin{equation}\n",
    "\\hat \\sigma^2 = \\frac{1}{N-K} \\sum_{k = 0}^{K - 1} (N_k-1) \\hat \\sigma_k^2 \n",
    "\\end{equation}\n",
    "\n",
    "So, for all $k$, the class densities $k \\mapsto f_{X|C}(x | k)$ are then estimated by the  Gaussian distributions with means $\\hat \\mu_k$ and common variance $\\hat \\sigma^2$."
   ]
  },
  {
   "cell_type": "markdown",
   "id": "cbe196ad",
   "metadata": {
    "slideshow": {
     "slide_type": "subslide"
    }
   },
   "source": [
    "Remember that we are interested in $P(C = k | X = x)$, and in order to use Bayes' Theorem, we still need to estimate the priors $P(C = k)$ for all $k$.\n",
    "\n",
    "> ***Question***\n",
    "> - Given the training sample, what is $\\hat P_k$, the most obvious estimate of $P(C = k)$, the probability that an observation falls into the class $k$?"
   ]
  },
  {
   "cell_type": "markdown",
   "id": "23bdf0d9",
   "metadata": {
    "slideshow": {
     "slide_type": "subslide"
    }
   },
   "source": [
    "#### Computing the posterior distribution\n",
    "\n",
    "Given a new input $x$, we can now gather all bits and pieces to construct the *posterior probability distribution* for $x$ to be associated to a class $k$\n",
    "\n",
    "\\begin{equation}\n",
    "\\hat P(C = k | X = x) = \\frac{\\hat P_k ~ \\hat f_{X|C}(x | k) }{\\sum_{l = 0}^{K - 1}  \\hat P_l ~ \\hat f_{X|C}(x | l)}\n",
    "\\end{equation}\n",
    "\n",
    "for all $k$."
   ]
  },
  {
   "cell_type": "markdown",
   "id": "e6424896",
   "metadata": {
    "slideshow": {
     "slide_type": "subslide"
    }
   },
   "source": [
    "#### Simplified classification using the discriminant function\n",
    "\n",
    "We know that, for a given observation, we can assign the class $k$ that has the largest probability.\n",
    "\n",
    "Since the log is a monotonic function, we can also compare the log of the probability and get the same result for our classification."
   ]
  },
  {
   "cell_type": "markdown",
   "id": "11a39f27",
   "metadata": {
    "slideshow": {
     "slide_type": "subslide"
    }
   },
   "source": [
    "In the case of LDA, this means that we can assign an observation to the class for which \n",
    "\n",
    "\\begin{equation}\n",
    "\\delta_k (x) = x \\frac{\\mu_k}{\\sigma^2} - \\frac{\\mu_k^2}{2\\sigma^2} + \\log(P_k)\n",
    "\\end{equation}\n",
    "\n",
    "is the highest.\n",
    "\n",
    "This quantity is called the *discriminant function*.\n",
    "\n",
    "Also, $\\delta_k(x) = \\delta_l(x)$ for any $k = l$ gives (a piece of) the decision boundary."
   ]
  },
  {
   "cell_type": "markdown",
   "id": "be53890d",
   "metadata": {
    "slideshow": {
     "slide_type": "subslide"
    }
   },
   "source": [
    "> ***Question (optional)***\n",
    "> - Derive the equation of the linear discriminant function."
   ]
  },
  {
   "cell_type": "markdown",
   "id": "8e7aa0d8",
   "metadata": {
    "slideshow": {
     "slide_type": "subslide"
    }
   },
   "source": [
    "We get that the discriminant is a *linear* function of $x$.\n",
    "\n",
    "It is linear because all class densities $f_{X|C}(x | k)$ have the same variance for all classes.\n",
    "\n",
    "This causes the nonlinear term to cancel in the expression of the discriminant."
   ]
  },
  {
   "cell_type": "markdown",
   "id": "7f92dab4",
   "metadata": {
    "slideshow": {
     "slide_type": "subslide"
    }
   },
   "source": [
    "#### Pros and cons of LDA\n",
    "\n",
    "**Pros:** Few parameters to adjust (method not prone to overfitting).\n",
    "\n",
    "**Cons:** Each class does not necessarily have the same variance nor follow the same parametric distribution.\n",
    "\n",
    "**Alternative:** If we relax that approximation of equal variances, we get a decision boundary which is no longer linear: it is called *Quadratic Discriminant Analysis* (QDA)."
   ]
  },
  {
   "cell_type": "markdown",
   "id": "94e58de6",
   "metadata": {
    "slideshow": {
     "slide_type": "subslide"
    }
   },
   "source": [
    "#### Generalization of LDA to  $p>1$\n",
    "\n",
    "All the formalism holds in higher dimensions: the likelihood in a $p$-dimensional space is\n",
    "\n",
    "\\begin{equation}\n",
    "\\hat f_{\\boldsymbol X | C}(\\boldsymbol x | k) = \\frac{1}{(2\\pi)^{p/2}|\\boldsymbol{\\Sigma}|^{1/2}} \\exp \\left(-\\frac{1}{2} (\\boldsymbol x - \\boldsymbol \\mu_k)^\\top \\boldsymbol{\\Sigma}^{-1}(\\boldsymbol x - \\boldsymbol \\mu_k)\\right)\\, ,\n",
    "\\end{equation}\n",
    "\n",
    "where $\\boldsymbol \\Sigma$ is the covariance matrix and $|\\boldsymbol \\Sigma|^{1/2}$ is the square root of the determinant of that matrix."
   ]
  },
  {
   "cell_type": "markdown",
   "id": "9cf909b8",
   "metadata": {
    "slideshow": {
     "slide_type": "subslide"
    }
   },
   "source": [
    "For $p>1$ the discriminant function is\n",
    "\n",
    "\\begin{equation}\n",
    "\\delta_k (\\boldsymbol x) = \\boldsymbol x^\\top \\boldsymbol \\Sigma^{-1} \\boldsymbol \\mu_k - \\frac{1}{2} \\boldsymbol \\mu_k^\\top \\boldsymbol \\Sigma^{-1} \\boldsymbol \\mu_k  + \\log(P_k)\n",
    "\\end{equation}\n",
    "\n",
    "This expression is very similar to the 1D case, except that we now handle vectors and matrices instead of scalars."
   ]
  },
  {
   "cell_type": "markdown",
   "id": "4b49329d",
   "metadata": {
    "slideshow": {
     "slide_type": "subslide"
    }
   },
   "source": [
    "<div class=\"alert alert-block alert-info\">\n",
    "    <b>LDA summary</b>\n",
    "    \n",
    "- Use Bayes to inverse the problem (Generative model),\n",
    "- Assume multivariate normal class densities with common covariance matrix,\n",
    "- Decision boundary is linear.\n",
    "\n",
    "</div>"
   ]
  },
  {
   "cell_type": "markdown",
   "id": "34ad67f9",
   "metadata": {
    "slideshow": {
     "slide_type": "subslide"
    }
   },
   "source": [
    "## Naive Bayes"
   ]
  },
  {
   "cell_type": "markdown",
   "id": "70da6e4e",
   "metadata": {
    "slideshow": {
     "slide_type": "subslide"
    }
   },
   "source": [
    "The Naive Bayes classifier is a popular method that share many similarities with LDA.\n",
    "\n",
    "Like LDA, it is a generative model for which we try to estimate the class densities.\n",
    "\n",
    "In order to estimate that probability, the naive Bayes methods *naively* assume that all variables are independent."
   ]
  },
  {
   "cell_type": "markdown",
   "id": "cb183cac",
   "metadata": {
    "slideshow": {
     "slide_type": "subslide"
    }
   },
   "source": [
    "That is\n",
    "\n",
    "\\begin{equation}\n",
    "f_{\\boldsymbol X | C}(\\boldsymbol x |k) = f_{X_1, C}(x_1 |k) ~ f_{X_2, C}(x_2 |k) \\ldots f_{X_p, C}(x_p |k)\n",
    "\\end{equation}\n",
    "\n",
    "and also\n",
    "\n",
    "\\begin{equation}\n",
    "f_{\\boldsymbol X}(\\boldsymbol x) = f_{X_1}(x_1) ~ f_{X_2}(x_2) \\ldots f_{X_p}(x_p)\n",
    "\\end{equation}\n",
    "\n",
    "which we will need for the normalization in Bayes' theorem."
   ]
  },
  {
   "cell_type": "markdown",
   "id": "48d40c57",
   "metadata": {
    "slideshow": {
     "slide_type": "subslide"
    }
   },
   "source": [
    "This hypothesis of independent variables is very strong.\n",
    "\n",
    "You should not use this method when you know this is not true.\n",
    "\n",
    "Classification of images for instance will often fail because nearby pixels are correlated."
   ]
  },
  {
   "cell_type": "markdown",
   "id": "d6fcb599",
   "metadata": {
    "slideshow": {
     "slide_type": "subslide"
    }
   },
   "source": [
    "Still attractive:\n",
    "- because is is much simpler to estimate 1D marginal PDFs rather than $p$-dimensional PDFs,\n",
    "- it is useful when the number of features $p$ is bigger than the number of observations $N$.\n",
    "\n",
    "To estimate these marginal PDFs, we can use any method like Gaussian kernels, histograms, etc."
   ]
  },
  {
   "cell_type": "markdown",
   "id": "00851f30",
   "metadata": {
    "slideshow": {
     "slide_type": "slide"
    }
   },
   "source": [
    "## References\n",
    "\n",
    "- [James, G., Witten, D., Hastie, T., & Tibshirani, R. (2013). *An introduction to statistical learning* (Vol. 112, p. 18). New York: springer.](https://www.statlearning.com/)"
   ]
  },
  {
   "cell_type": "markdown",
   "id": "5e186998",
   "metadata": {
    "slideshow": {
     "slide_type": "slide"
    }
   },
   "source": [
    "***\n",
    "## Credit\n",
    "\n",
    "[//]: # \"This notebook is part of [E4C Interdisciplinary Center - Education](https://gitlab.in2p3.fr/energy4climate/public/education).\"\n",
    "Contributors include Bruno Deremble and Alexis Tantet.\n",
    "\n",
    "<br>\n",
    "\n",
    "<div style=\"display: flex; height: 70px\">\n",
    "    \n",
    "<img alt=\"Logo LMD\" src=\"images/logos/logo_lmd.jpg\" style=\"display: inline-block\"/>\n",
    "\n",
    "<img alt=\"Logo IPSL\" src=\"images/logos/logo_ipsl.png\" style=\"display: inline-block\"/>\n",
    "\n",
    "<img alt=\"Logo E4C\" src=\"images/logos/logo_e4c_final.png\" style=\"display: inline-block\"/>\n",
    "\n",
    "<img alt=\"Logo EP\" src=\"images/logos/logo_ep.png\" style=\"display: inline-block\"/>\n",
    "\n",
    "<img alt=\"Logo SU\" src=\"images/logos/logo_su.png\" style=\"display: inline-block\"/>\n",
    "\n",
    "<img alt=\"Logo ENS\" src=\"images/logos/logo_ens.jpg\" style=\"display: inline-block\"/>\n",
    "\n",
    "<img alt=\"Logo CNRS\" src=\"images/logos/logo_cnrs.png\" style=\"display: inline-block\"/>\n",
    "    \n",
    "</div>\n",
    "\n",
    "<hr>\n",
    "\n",
    "<div style=\"display: flex\">\n",
    "    <a rel=\"license\" href=\"http://creativecommons.org/licenses/by-sa/4.0/\"><img alt=\"Creative Commons License\" style=\"border-width:0; margin-right: 10px\" src=\"https://i.creativecommons.org/l/by-sa/4.0/88x31.png\" /></a>\n",
    "    <br>This work is licensed under a &nbsp; <a rel=\"license\" href=\"http://creativecommons.org/licenses/by-sa/4.0/\">Creative Commons Attribution-ShareAlike 4.0 International License</a>.\n",
    "</div>"
   ]
  }
 ],
 "metadata": {
  "celltoolbar": "Slideshow",
  "kernelspec": {
   "display_name": "Python 3 (ipykernel)",
   "language": "python",
   "name": "python3"
  },
  "language_info": {
   "codemirror_mode": {
    "name": "ipython",
    "version": 3
   },
   "file_extension": ".py",
   "mimetype": "text/x-python",
   "name": "python",
   "nbconvert_exporter": "python",
   "pygments_lexer": "ipython3",
   "version": "3.9.12"
  },
  "latex_envs": {
   "LaTeX_envs_menu_present": true,
   "autoclose": true,
   "autocomplete": false,
   "bibliofile": "biblio.bib",
   "cite_by": "apalike",
   "current_citInitial": 1,
   "eqLabelWithNumbers": true,
   "eqNumInitial": 1,
   "hotkeys": {
    "equation": "Ctrl-E",
    "itemize": "Ctrl-I"
   },
   "labels_anchors": false,
   "latex_user_defs": false,
   "report_style_numbering": false,
   "user_envs_cfg": false
  },
  "toc": {
   "base_numbering": 1,
   "nav_menu": {},
   "number_sections": true,
   "sideBar": true,
   "skip_h1_title": false,
   "title_cell": "Table of Contents",
   "title_sidebar": "Contents",
   "toc_cell": false,
   "toc_position": {},
   "toc_section_display": true,
   "toc_window_display": false
  },
  "varInspector": {
   "cols": {
    "lenName": 16,
    "lenType": 16,
    "lenVar": 40
   },
   "kernels_config": {
    "python": {
     "delete_cmd_postfix": "",
     "delete_cmd_prefix": "del ",
     "library": "var_list.py",
     "varRefreshCmd": "print(var_dic_list())"
    },
    "r": {
     "delete_cmd_postfix": ") ",
     "delete_cmd_prefix": "rm(",
     "library": "var_list.r",
     "varRefreshCmd": "cat(var_dic_list()) "
    }
   },
   "types_to_exclude": [
    "module",
    "function",
    "builtin_function_or_method",
    "instance",
    "_Feature"
   ],
   "window_display": false
  }
 },
 "nbformat": 4,
 "nbformat_minor": 5
}
