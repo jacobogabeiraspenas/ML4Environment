{
 "cells": [
  {
   "cell_type": "markdown",
   "id": "0ae790c8-aa0f-44c7-8db3-9899619bb017",
   "metadata": {},
   "source": [
    "## Project: Forecast of El Nino"
   ]
  },
  {
   "cell_type": "markdown",
   "id": "3923e740-9299-4bd2-b237-4c3293fcc79f",
   "metadata": {},
   "source": [
    "1. **Understand El Niño:**\n",
    "   - Begin by reading about El Niño to gain a deep understanding of what it is, how it affects the Pacific equatorial ocean, and its impact on the local economy. This foundational knowledge will help you make informed decisions about feature selection and model building.\n",
    "   \n",
    "   ![Weather Data](../images/monthly-sst-lanina-normal-elnino.png)\n",
    "\n",
    "2. **Data Exploration:**\n",
    "   - Start by exploring the provided dataset, which includes monthly sea surface temperature (SST) data. Understand the structure of the data, the temporal and spatial resolutions, and any additional variables if available.\n",
    "\n",
    "3. **Characterize El Niño:**\n",
    "   - Define and create a classifier variable that represents El Niño events in the dataset. El Niño is typically associated with higher sea surface temperatures in the tropical Pacific Ocean. You can use historical data and domain knowledge to label time periods as either \"El Niño\" or \"Non-El Niño\" based on specific criteria, such as SST thresholds.\n",
    "\n",
    "4. **Data Preprocessing:**\n",
    "   - Prepare the dataset for machine learning by cleaning, transforming, and encoding the data. Ensure that the dataset is in a format suitable for classification, with features and a target variable (El Niño classifier).\n",
    "\n",
    "5. **Feature Engineering:**\n",
    "   - Select relevant features that may influence El Niño events. These features could include sea surface temperatures, ocean current patterns, atmospheric pressure, and other climatic variables. You may also consider lagged variables, seasonal patterns, and spatial features.\n",
    "\n",
    "6. **Model Selection:**\n",
    "   - Choose an appropriate machine learning algorithm for classification. Common classifiers for binary classification tasks like this one include Logistic Regression, Random Forest, Support Vector Machine (SVM), Gradient Boosting, and Neural Networks.\n",
    "   - Experiment with different algorithms and hyperparameters to find the one that provides the best predictive performance.\n",
    "\n",
    "7. **Train and Validate the Model:**\n",
    "   - Split the dataset into training and validation sets to assess the model's performance. You can use techniques like cross-validation to evaluate model accuracy, precision, recall, and F1-score.\n",
    "\n",
    "8. **Model Interpretation:**\n",
    "   - Interpret the model's results to understand which features are most influential in predicting El Niño events. This insight can provide valuable information about the drivers of El Niño and its predictability.\n",
    "\n",
    "9. **Predict El Niño Events:**\n",
    "   - Once your model is trained and validated, you can use it to predict El Niño events for future time periods. Input the relevant features, and the model will output a prediction of whether El Niño is likely to occur.\n",
    "\n",
    "10. **Evaluate Predictability:**\n",
    "    - Assess the predictability of El Niño based on the model's performance. Calculate relevant evaluation metrics and consider the model's accuracy in predicting El Niño events.\n",
    "\n",
    "11. **Continuous Improvement:**\n",
    "    - Continue to refine and improve your model based on new data and insights. Monitoring and updating the model is essential for maintaining its predictive accuracy.\n",
    "\n",
    "In summary, building a machine learning model to predict El Niño involves data exploration, feature engineering, model selection, and evaluation. Additionally, understanding the implications of El Niño on the local economy and the predictability of El Niño events is crucial for building a relevant and impactful predictive model.\n"
   ]
  },
  {
   "cell_type": "code",
   "execution_count": 1,
   "id": "1373380f-b88c-4531-a4a3-d483d730fd53",
   "metadata": {},
   "outputs": [],
   "source": [
    "# Data retrieval"
   ]
  },
  {
   "cell_type": "code",
   "execution_count": null,
   "id": "ffc6f07c-6568-4df1-833b-93137e807f17",
   "metadata": {},
   "outputs": [
    {
     "name": "stderr",
     "output_type": "stream",
     "text": [
      "2023-11-16 14:59:15,267 INFO Sending request to https://cds.climate.copernicus.eu/api/v2/resources/reanalysis-era5-single-levels\n",
      "2023-11-16 14:59:23,139 WARNING Connection error: [HTTPSConnectionPool(host='cds.climate.copernicus.eu', port=443): Max retries exceeded with url: /api/v2/resources/reanalysis-era5-single-levels (Caused by NewConnectionError('<urllib3.connection.HTTPSConnection object at 0x7fb3a8ad5670>: Failed to establish a new connection: [Errno 60] Operation timed out'))]. Attempt 1 of 500.\n",
      "2023-11-16 14:59:23,141 WARNING Retrying in 120 seconds\n",
      "2023-11-16 15:01:23,122 INFO Retrying now...\n",
      "2023-11-16 15:01:30,968 WARNING Connection error: [HTTPSConnectionPool(host='cds.climate.copernicus.eu', port=443): Max retries exceeded with url: /api/v2/resources/reanalysis-era5-single-levels (Caused by NewConnectionError('<urllib3.connection.HTTPSConnection object at 0x7fb3a8add130>: Failed to establish a new connection: [Errno 60] Operation timed out'))]. Attempt 2 of 500.\n",
      "2023-11-16 15:01:30,970 WARNING Retrying in 120 seconds\n",
      "2023-11-16 15:03:30,970 INFO Retrying now...\n",
      "2023-11-16 15:04:31,008 WARNING Connection error: [HTTPSConnectionPool(host='cds.climate.copernicus.eu', port=443): Max retries exceeded with url: /api/v2/resources/reanalysis-era5-single-levels (Caused by ConnectTimeoutError(<urllib3.connection.HTTPSConnection object at 0x7fb3a8add100>, 'Connection to cds.climate.copernicus.eu timed out. (connect timeout=60)'))]. Attempt 3 of 500.\n",
      "2023-11-16 15:04:31,014 WARNING Retrying in 120 seconds\n",
      "2023-11-16 15:06:31,021 INFO Retrying now...\n",
      "2023-11-16 15:07:31,058 WARNING Connection error: [HTTPSConnectionPool(host='cds.climate.copernicus.eu', port=443): Max retries exceeded with url: /api/v2/resources/reanalysis-era5-single-levels (Caused by ConnectTimeoutError(<urllib3.connection.HTTPSConnection object at 0x7fb3a8ad5d60>, 'Connection to cds.climate.copernicus.eu timed out. (connect timeout=60)'))]. Attempt 4 of 500.\n",
      "2023-11-16 15:07:31,067 WARNING Retrying in 120 seconds\n",
      "2023-11-16 15:09:31,071 INFO Retrying now...\n",
      "2023-11-16 15:10:31,104 WARNING Connection error: [HTTPSConnectionPool(host='cds.climate.copernicus.eu', port=443): Max retries exceeded with url: /api/v2/resources/reanalysis-era5-single-levels (Caused by ConnectTimeoutError(<urllib3.connection.HTTPSConnection object at 0x7fb3a8ad5f10>, 'Connection to cds.climate.copernicus.eu timed out. (connect timeout=60)'))]. Attempt 5 of 500.\n",
      "2023-11-16 15:10:31,113 WARNING Retrying in 120 seconds\n",
      "2023-11-16 15:12:31,117 INFO Retrying now...\n",
      "2023-11-16 15:13:31,145 WARNING Connection error: [HTTPSConnectionPool(host='cds.climate.copernicus.eu', port=443): Max retries exceeded with url: /api/v2/resources/reanalysis-era5-single-levels (Caused by ConnectTimeoutError(<urllib3.connection.HTTPSConnection object at 0x7fb3a8ad5fa0>, 'Connection to cds.climate.copernicus.eu timed out. (connect timeout=60)'))]. Attempt 6 of 500.\n",
      "2023-11-16 15:13:31,151 WARNING Retrying in 120 seconds\n",
      "2023-11-16 15:15:31,159 INFO Retrying now...\n",
      "2023-11-16 15:16:31,194 WARNING Connection error: [HTTPSConnectionPool(host='cds.climate.copernicus.eu', port=443): Max retries exceeded with url: /api/v2/resources/reanalysis-era5-single-levels (Caused by ConnectTimeoutError(<urllib3.connection.HTTPSConnection object at 0x7fb3a8afe580>, 'Connection to cds.climate.copernicus.eu timed out. (connect timeout=60)'))]. Attempt 7 of 500.\n",
      "2023-11-16 15:16:31,196 WARNING Retrying in 120 seconds\n",
      "2023-11-16 15:18:31,200 INFO Retrying now...\n",
      "2023-11-16 15:19:31,238 WARNING Connection error: [HTTPSConnectionPool(host='cds.climate.copernicus.eu', port=443): Max retries exceeded with url: /api/v2/resources/reanalysis-era5-single-levels (Caused by ConnectTimeoutError(<urllib3.connection.HTTPSConnection object at 0x7fb3a8afe0d0>, 'Connection to cds.climate.copernicus.eu timed out. (connect timeout=60)'))]. Attempt 8 of 500.\n",
      "2023-11-16 15:19:31,246 WARNING Retrying in 120 seconds\n",
      "2023-11-16 15:21:31,247 INFO Retrying now...\n",
      "2023-11-16 15:22:31,278 WARNING Connection error: [HTTPSConnectionPool(host='cds.climate.copernicus.eu', port=443): Max retries exceeded with url: /api/v2/resources/reanalysis-era5-single-levels (Caused by ConnectTimeoutError(<urllib3.connection.HTTPSConnection object at 0x7fb3a8afee80>, 'Connection to cds.climate.copernicus.eu timed out. (connect timeout=60)'))]. Attempt 9 of 500.\n",
      "2023-11-16 15:22:31,286 WARNING Retrying in 120 seconds\n",
      "2023-11-16 15:24:31,292 INFO Retrying now...\n",
      "2023-11-16 15:25:31,325 WARNING Connection error: [HTTPSConnectionPool(host='cds.climate.copernicus.eu', port=443): Max retries exceeded with url: /api/v2/resources/reanalysis-era5-single-levels (Caused by ConnectTimeoutError(<urllib3.connection.HTTPSConnection object at 0x7fb3a8afea90>, 'Connection to cds.climate.copernicus.eu timed out. (connect timeout=60)'))]. Attempt 10 of 500.\n",
      "2023-11-16 15:25:31,330 WARNING Retrying in 120 seconds\n",
      "2023-11-16 15:27:31,336 INFO Retrying now...\n",
      "2023-11-16 15:28:31,366 WARNING Connection error: [HTTPSConnectionPool(host='cds.climate.copernicus.eu', port=443): Max retries exceeded with url: /api/v2/resources/reanalysis-era5-single-levels (Caused by ConnectTimeoutError(<urllib3.connection.HTTPSConnection object at 0x7fb3985015e0>, 'Connection to cds.climate.copernicus.eu timed out. (connect timeout=60)'))]. Attempt 11 of 500.\n",
      "2023-11-16 15:28:31,368 WARNING Retrying in 120 seconds\n",
      "2023-11-16 15:30:31,396 INFO Retrying now...\n",
      "2023-11-16 15:31:31,450 WARNING Connection error: [HTTPSConnectionPool(host='cds.climate.copernicus.eu', port=443): Max retries exceeded with url: /api/v2/resources/reanalysis-era5-single-levels (Caused by ConnectTimeoutError(<urllib3.connection.HTTPSConnection object at 0x7fb3985018b0>, 'Connection to cds.climate.copernicus.eu timed out. (connect timeout=60)'))]. Attempt 12 of 500.\n",
      "2023-11-16 15:31:31,465 WARNING Retrying in 120 seconds\n",
      "2023-11-16 15:33:31,481 INFO Retrying now...\n",
      "2023-11-16 15:34:31,529 WARNING Connection error: [HTTPSConnectionPool(host='cds.climate.copernicus.eu', port=443): Max retries exceeded with url: /api/v2/resources/reanalysis-era5-single-levels (Caused by ConnectTimeoutError(<urllib3.connection.HTTPSConnection object at 0x7fb3a8afea90>, 'Connection to cds.climate.copernicus.eu timed out. (connect timeout=60)'))]. Attempt 13 of 500.\n",
      "2023-11-16 15:34:31,530 WARNING Retrying in 120 seconds\n",
      "2023-11-16 15:36:31,541 INFO Retrying now...\n",
      "2023-11-16 15:37:31,582 WARNING Connection error: [HTTPSConnectionPool(host='cds.climate.copernicus.eu', port=443): Max retries exceeded with url: /api/v2/resources/reanalysis-era5-single-levels (Caused by ConnectTimeoutError(<urllib3.connection.HTTPSConnection object at 0x7fb3a8afe610>, 'Connection to cds.climate.copernicus.eu timed out. (connect timeout=60)'))]. Attempt 14 of 500.\n",
      "2023-11-16 15:37:31,584 WARNING Retrying in 120 seconds\n",
      "2023-11-16 15:39:31,594 INFO Retrying now...\n",
      "2023-11-16 15:40:31,647 WARNING Connection error: [HTTPSConnectionPool(host='cds.climate.copernicus.eu', port=443): Max retries exceeded with url: /api/v2/resources/reanalysis-era5-single-levels (Caused by ConnectTimeoutError(<urllib3.connection.HTTPSConnection object at 0x7fb3a8afe2e0>, 'Connection to cds.climate.copernicus.eu timed out. (connect timeout=60)'))]. Attempt 15 of 500.\n",
      "2023-11-16 15:40:31,655 WARNING Retrying in 120 seconds\n",
      "2023-11-16 15:42:31,665 INFO Retrying now...\n",
      "2023-11-16 15:43:31,695 WARNING Connection error: [HTTPSConnectionPool(host='cds.climate.copernicus.eu', port=443): Max retries exceeded with url: /api/v2/resources/reanalysis-era5-single-levels (Caused by ConnectTimeoutError(<urllib3.connection.HTTPSConnection object at 0x7fb3a8afe6d0>, 'Connection to cds.climate.copernicus.eu timed out. (connect timeout=60)'))]. Attempt 16 of 500.\n",
      "2023-11-16 15:43:31,699 WARNING Retrying in 120 seconds\n",
      "2023-11-16 15:45:31,709 INFO Retrying now...\n",
      "2023-11-16 15:46:31,735 WARNING Connection error: [HTTPSConnectionPool(host='cds.climate.copernicus.eu', port=443): Max retries exceeded with url: /api/v2/resources/reanalysis-era5-single-levels (Caused by ConnectTimeoutError(<urllib3.connection.HTTPSConnection object at 0x7fb3a8ad5730>, 'Connection to cds.climate.copernicus.eu timed out. (connect timeout=60)'))]. Attempt 17 of 500.\n",
      "2023-11-16 15:46:31,738 WARNING Retrying in 120 seconds\n",
      "2023-11-16 15:48:31,744 INFO Retrying now...\n",
      "2023-11-16 15:49:31,772 WARNING Connection error: [HTTPSConnectionPool(host='cds.climate.copernicus.eu', port=443): Max retries exceeded with url: /api/v2/resources/reanalysis-era5-single-levels (Caused by ConnectTimeoutError(<urllib3.connection.HTTPSConnection object at 0x7fb3a8ad5640>, 'Connection to cds.climate.copernicus.eu timed out. (connect timeout=60)'))]. Attempt 18 of 500.\n",
      "2023-11-16 15:49:31,773 WARNING Retrying in 120 seconds\n",
      "2023-11-16 15:51:31,777 INFO Retrying now...\n",
      "2023-11-16 15:52:31,803 WARNING Connection error: [HTTPSConnectionPool(host='cds.climate.copernicus.eu', port=443): Max retries exceeded with url: /api/v2/resources/reanalysis-era5-single-levels (Caused by ConnectTimeoutError(<urllib3.connection.HTTPSConnection object at 0x7fb3a8addbe0>, 'Connection to cds.climate.copernicus.eu timed out. (connect timeout=60)'))]. Attempt 19 of 500.\n",
      "2023-11-16 15:52:31,806 WARNING Retrying in 120 seconds\n",
      "2023-11-16 15:54:31,814 INFO Retrying now...\n",
      "2023-11-16 15:55:31,840 WARNING Connection error: [HTTPSConnectionPool(host='cds.climate.copernicus.eu', port=443): Max retries exceeded with url: /api/v2/resources/reanalysis-era5-single-levels (Caused by ConnectTimeoutError(<urllib3.connection.HTTPSConnection object at 0x7fb3a8add070>, 'Connection to cds.climate.copernicus.eu timed out. (connect timeout=60)'))]. Attempt 20 of 500.\n",
      "2023-11-16 15:55:31,849 WARNING Retrying in 120 seconds\n",
      "2023-11-16 15:57:31,854 INFO Retrying now...\n",
      "2023-11-16 15:58:31,875 WARNING Connection error: [HTTPSConnectionPool(host='cds.climate.copernicus.eu', port=443): Max retries exceeded with url: /api/v2/resources/reanalysis-era5-single-levels (Caused by ConnectTimeoutError(<urllib3.connection.HTTPSConnection object at 0x7fb398501880>, 'Connection to cds.climate.copernicus.eu timed out. (connect timeout=60)'))]. Attempt 21 of 500.\n",
      "2023-11-16 15:58:31,877 WARNING Retrying in 120 seconds\n",
      "2023-11-16 16:00:31,838 INFO Retrying now...\n",
      "2023-11-16 16:01:31,866 WARNING Connection error: [HTTPSConnectionPool(host='cds.climate.copernicus.eu', port=443): Max retries exceeded with url: /api/v2/resources/reanalysis-era5-single-levels (Caused by ConnectTimeoutError(<urllib3.connection.HTTPSConnection object at 0x7fb3985019d0>, 'Connection to cds.climate.copernicus.eu timed out. (connect timeout=60)'))]. Attempt 22 of 500.\n",
      "2023-11-16 16:01:31,868 WARNING Retrying in 120 seconds\n",
      "2023-11-16 16:03:31,872 INFO Retrying now...\n",
      "2023-11-16 16:04:31,891 WARNING Connection error: [HTTPSConnectionPool(host='cds.climate.copernicus.eu', port=443): Max retries exceeded with url: /api/v2/resources/reanalysis-era5-single-levels (Caused by ConnectTimeoutError(<urllib3.connection.HTTPSConnection object at 0x7fb3985011f0>, 'Connection to cds.climate.copernicus.eu timed out. (connect timeout=60)'))]. Attempt 23 of 500.\n",
      "2023-11-16 16:04:31,894 WARNING Retrying in 120 seconds\n",
      "2023-11-16 16:06:31,897 INFO Retrying now...\n",
      "2023-11-16 16:07:31,918 WARNING Connection error: [HTTPSConnectionPool(host='cds.climate.copernicus.eu', port=443): Max retries exceeded with url: /api/v2/resources/reanalysis-era5-single-levels (Caused by ConnectTimeoutError(<urllib3.connection.HTTPSConnection object at 0x7fb398501ee0>, 'Connection to cds.climate.copernicus.eu timed out. (connect timeout=60)'))]. Attempt 24 of 500.\n",
      "2023-11-16 16:07:31,921 WARNING Retrying in 120 seconds\n",
      "2023-11-16 16:09:31,924 INFO Retrying now...\n",
      "2023-11-16 16:10:31,943 WARNING Connection error: [HTTPSConnectionPool(host='cds.climate.copernicus.eu', port=443): Max retries exceeded with url: /api/v2/resources/reanalysis-era5-single-levels (Caused by ConnectTimeoutError(<urllib3.connection.HTTPSConnection object at 0x7fb398519280>, 'Connection to cds.climate.copernicus.eu timed out. (connect timeout=60)'))]. Attempt 25 of 500.\n",
      "2023-11-16 16:10:31,945 WARNING Retrying in 120 seconds\n",
      "2023-11-16 16:12:31,948 INFO Retrying now...\n",
      "2023-11-16 16:13:31,971 WARNING Connection error: [HTTPSConnectionPool(host='cds.climate.copernicus.eu', port=443): Max retries exceeded with url: /api/v2/resources/reanalysis-era5-single-levels (Caused by ConnectTimeoutError(<urllib3.connection.HTTPSConnection object at 0x7fb3c9e24a90>, 'Connection to cds.climate.copernicus.eu timed out. (connect timeout=60)'))]. Attempt 26 of 500.\n",
      "2023-11-16 16:13:31,990 WARNING Retrying in 120 seconds\n",
      "2023-11-16 16:15:31,993 INFO Retrying now...\n",
      "2023-11-16 16:16:32,015 WARNING Connection error: [HTTPSConnectionPool(host='cds.climate.copernicus.eu', port=443): Max retries exceeded with url: /api/v2/resources/reanalysis-era5-single-levels (Caused by ConnectTimeoutError(<urllib3.connection.HTTPSConnection object at 0x7fb3a8addb20>, 'Connection to cds.climate.copernicus.eu timed out. (connect timeout=60)'))]. Attempt 27 of 500.\n",
      "2023-11-16 16:16:32,018 WARNING Retrying in 120 seconds\n",
      "2023-11-16 16:18:32,021 INFO Retrying now...\n",
      "2023-11-16 16:19:32,053 WARNING Connection error: [HTTPSConnectionPool(host='cds.climate.copernicus.eu', port=443): Max retries exceeded with url: /api/v2/resources/reanalysis-era5-single-levels (Caused by ConnectTimeoutError(<urllib3.connection.HTTPSConnection object at 0x7fb3a8ad5250>, 'Connection to cds.climate.copernicus.eu timed out. (connect timeout=60)'))]. Attempt 28 of 500.\n",
      "2023-11-16 16:19:32,055 WARNING Retrying in 120 seconds\n",
      "2023-11-16 16:21:32,057 INFO Retrying now...\n",
      "2023-11-16 16:22:32,077 WARNING Connection error: [HTTPSConnectionPool(host='cds.climate.copernicus.eu', port=443): Max retries exceeded with url: /api/v2/resources/reanalysis-era5-single-levels (Caused by ConnectTimeoutError(<urllib3.connection.HTTPSConnection object at 0x7fb3a8ad55b0>, 'Connection to cds.climate.copernicus.eu timed out. (connect timeout=60)'))]. Attempt 29 of 500.\n",
      "2023-11-16 16:22:32,080 WARNING Retrying in 120 seconds\n",
      "2023-11-16 16:24:32,090 INFO Retrying now...\n",
      "2023-11-16 16:25:32,132 WARNING Connection error: [HTTPSConnectionPool(host='cds.climate.copernicus.eu', port=443): Max retries exceeded with url: /api/v2/resources/reanalysis-era5-single-levels (Caused by ConnectTimeoutError(<urllib3.connection.HTTPSConnection object at 0x7fb3a8ad59d0>, 'Connection to cds.climate.copernicus.eu timed out. (connect timeout=60)'))]. Attempt 30 of 500.\n",
      "2023-11-16 16:25:32,135 WARNING Retrying in 120 seconds\n",
      "2023-11-16 16:27:32,146 INFO Retrying now...\n",
      "2023-11-16 16:28:32,180 WARNING Connection error: [HTTPSConnectionPool(host='cds.climate.copernicus.eu', port=443): Max retries exceeded with url: /api/v2/resources/reanalysis-era5-single-levels (Caused by ConnectTimeoutError(<urllib3.connection.HTTPSConnection object at 0x7fb3a8afeac0>, 'Connection to cds.climate.copernicus.eu timed out. (connect timeout=60)'))]. Attempt 31 of 500.\n",
      "2023-11-16 16:28:32,184 WARNING Retrying in 120 seconds\n",
      "2023-11-16 16:30:32,214 INFO Retrying now...\n",
      "2023-11-16 16:31:32,245 WARNING Connection error: [HTTPSConnectionPool(host='cds.climate.copernicus.eu', port=443): Max retries exceeded with url: /api/v2/resources/reanalysis-era5-single-levels (Caused by ConnectTimeoutError(<urllib3.connection.HTTPSConnection object at 0x7fb3a8afeb80>, 'Connection to cds.climate.copernicus.eu timed out. (connect timeout=60)'))]. Attempt 32 of 500.\n",
      "2023-11-16 16:31:32,253 WARNING Retrying in 120 seconds\n",
      "2023-11-16 16:33:32,263 INFO Retrying now...\n",
      "2023-11-16 16:34:32,293 WARNING Connection error: [HTTPSConnectionPool(host='cds.climate.copernicus.eu', port=443): Max retries exceeded with url: /api/v2/resources/reanalysis-era5-single-levels (Caused by ConnectTimeoutError(<urllib3.connection.HTTPSConnection object at 0x7fb3a8afee50>, 'Connection to cds.climate.copernicus.eu timed out. (connect timeout=60)'))]. Attempt 33 of 500.\n",
      "2023-11-16 16:34:32,296 WARNING Retrying in 120 seconds\n"
     ]
    }
   ],
   "source": [
    "import cdsapi\n",
    "\n",
    "# Define your CDS API key\n",
    "api_key = '3604f1db-162d-4647-9b6b-d4f1af8fb039'\n",
    "\n",
    "# Create a CDS API client session\n",
    "c = cdsapi.Client()\n",
    "\n",
    "# Specify the dataset and request parameters\n",
    "request = {\n",
    "    'product_type': 'reanalysis',\n",
    "    'format': 'netcdf',\n",
    "    'variable': 'sea_surface_temperature',\n",
    "    'area': [-20, -100, 20, 80],  # [latitude_north, longitude_west, latitude_south, longitude_east]\n",
    "    'year': list(range(1990, 2022)),  # Request data from 1990 to the current year\n",
    "    'month': list(range(1, 13)),  # Request data for all months (1 to 12)\n",
    "}\n",
    "\n",
    "# Make the API request and download the data\n",
    "c.retrieve('reanalysis-era5-single-levels', request, 'download.nc')\n",
    "\n",
    "# Close the API session\n",
    "c.close()\n"
   ]
  },
  {
   "cell_type": "markdown",
   "id": "88f002b3-16d1-496a-884e-86b08e2f177e",
   "metadata": {},
   "source": [
    "## Model (Neural Network)"
   ]
  },
  {
   "cell_type": "markdown",
   "id": "952e09c4-f854-4a58-9a4f-59a93aecec96",
   "metadata": {},
   "source": [
    "**Why Use a Neural Network (NN) for El Niño Prediction?**\n",
    "\n",
    "- **Complex SST Patterns:** El Niño events involve intricate sea surface temperature (SST) patterns. NNs are great at detecting these complex relationships.\n",
    "\n",
    "- **Automatic Feature Discovery:** NNs can find which SST features matter most for El Niño prediction, even when we're uncertain which ones are crucial.\n",
    "\n",
    "- **Non-Linear Relationships:** El Niño's behavior is not linear; it involves many factors interacting in non-obvious ways. NNs can capture these intricate, non-linear connections.\n",
    "\n",
    "- **Temporal and Spatial Data Handling:** NNs effectively process the temporal (time-based) and spatial (location-based) complexity in SST data, which is essential for predicting El Niño.\n",
    "\n",
    "- **Generalization:** Once trained on historical data, NNs can generalize to predict future El Niño events, learning from past SST patterns to make forecasts.\n",
    "\n",
    "- **Data Integration:** NNs can seamlessly integrate various data sources, like atmospheric and oceanic data, enhancing El Niño predictions with multi-modal information.\n",
    "\n",
    "In summary, NNs excel at untangling complex SST patterns, discovering important features, and handling non-linear relationships, making them a powerful tool for predicting El Niño events with precision.\n"
   ]
  },
  {
   "cell_type": "code",
   "execution_count": null,
   "id": "8dd75182-6cbf-4cba-9c37-83cb8a5a82ce",
   "metadata": {},
   "outputs": [],
   "source": [
    "# Import necessary libraries\n",
    "import numpy as np\n",
    "import tensorflow as tf\n",
    "from tensorflow import keras\n",
    "from sklearn.model_selection import train_test_split\n",
    "\n",
    "# Load your SST data and labels (1 for El Niño, 0 for non-El Niño)\n",
    "# Replace 'X' and 'y' with your data and labels\n",
    "X = ...  # SST data in the shape (samples, 40, 180)\n",
    "y = ...  # Labels (1 for El Niño, 0 for non-El Niño)\n",
    "\n",
    "# Split the data into training and testing sets\n",
    "X_train, X_test, y_train, y_test = train_test_split(X, y, test_size=0.2, random_state=42)\n",
    "\n",
    "# Define the neural network model\n",
    "model = keras.Sequential([\n",
    "    keras.layers.Flatten(input_shape=(40, 180)),  # Flatten the input grid\n",
    "    keras.layers.Dense(128, activation='relu'),   # Fully connected layer with 128 units and ReLU activation\n",
    "    keras.layers.Dense(1, activation='sigmoid')   # Output layer with 1 unit and sigmoid activation (binary classification)\n",
    "])\n",
    "\n",
    "# Compile the model\n",
    "model.compile(optimizer='adam',\n",
    "              loss='binary_crossentropy',  # Binary cross-entropy loss for binary classification\n",
    "              metrics=['accuracy'])\n",
    "\n",
    "# Train the model on the training data\n",
    "model.fit(X_train, y_train, epochs=10, batch_size=32, validation_data=(X_test, y_test))\n",
    "\n",
    "# Evaluate the model on the test data\n",
    "test_loss, test_accuracy = model.evaluate(X_test, y_test)\n",
    "print(f\"Test accuracy: {test_accuracy}\")\n"
   ]
  },
  {
   "cell_type": "markdown",
   "id": "5bfaa222",
   "metadata": {},
   "source": [
    "## Create a CDS API Key\n",
    "To access data from the Copernicus Climate Data Store, you'll need an API key. You can obtain one by registering on the CDS website ([CDS Website](https://cds.climate.copernicus.eu/))."
   ]
  },
  {
   "cell_type": "markdown",
   "id": "3b63a2b5",
   "metadata": {},
   "source": [
    "## Install the cdsapi Library\n",
    "Ensure you have the cdsapi Python library installed. You can install it using pip:"
   ]
  },
  {
   "cell_type": "code",
   "execution_count": 1,
   "id": "8d195970",
   "metadata": {},
   "outputs": [],
   "source": [
    "!pip install cdsapi"
   ]
  },
  {
   "cell_type": "markdown",
   "id": "d1a6f447",
   "metadata": {},
   "source": [
    "## Import the cdsapi Library\n",
    "Import the cdsapi library at the beginning of your Python script or Jupyter Notebook."
   ]
  },
  {
   "cell_type": "code",
   "execution_count": 2,
   "id": "40613ab3",
   "metadata": {},
   "outputs": [],
   "source": [
    "import cdsapi"
   ]
  },
  {
   "cell_type": "markdown",
   "id": "5954d178",
   "metadata": {},
   "source": [
    "## Define your CDS API Key\n",
    "Set your API key obtained from the CDS website."
   ]
  },
  {
   "cell_type": "code",
   "execution_count": 3,
   "id": "f0cfedcc",
   "metadata": {},
   "outputs": [],
   "source": [
    "api_key = 'Your-API-key'"
   ]
  },
  {
   "cell_type": "markdown",
   "id": "3599a08b",
   "metadata": {},
   "source": [
    "## Create a CDS API Client Session\n",
    "Initialize a client session with the CDS API."
   ]
  },
  {
   "cell_type": "code",
   "execution_count": 4,
   "id": "a01e41a5",
   "metadata": {},
   "outputs": [],
   "source": [
    "c = cdsapi.Client()"
   ]
  },
  {
   "cell_type": "markdown",
   "id": "15b79b14",
   "metadata": {},
   "source": [
    "## Specify Request Parameters\n",
    "Define the dataset you want to retrieve and specify the request parameters. In your example, you are requesting sea surface temperature (SST) data over a specific geographic area, time range, and data format."
   ]
  },
  {
   "cell_type": "code",
   "execution_count": 5,
   "id": "b494740b",
   "metadata": {},
   "outputs": [],
   "source": [
    "request = {\n",
    "    'product_type': 'reanalysis',\n",
    "    'format': 'netcdf',\n",
    "    'variable': 'sea_surface_temperature',\n",
    "    'area': [-20, -100, 20, 80],  # [latitude_north, longitude_west, latitude_south, longitude_east]\n",
    "    'year': list(range(1990, 2024)),  # Request data from 1990 to the current year\n",
    "    'month': list(range(1, 13)),  # Request data for all months (1 to 12)\n",
    "}"
   ]
  },
  {
   "cell_type": "markdown",
   "id": "fcefa37b",
   "metadata": {},
   "source": [
    "## Make the API Request and Download Data\n",
    "Use the c.retrieve method to send the request to the CDS API and download the data. In your example, it retrieves ERA5 reanalysis data for sea surface temperature."
   ]
  },
  {
   "cell_type": "code",
   "execution_count": 6,
   "id": "6f9b4ee8",
   "metadata": {},
   "outputs": [],
   "source": [
    "c.retrieve('reanalysis-era5-single-levels', request, 'download.nc')"
   ]
  },
  {
   "cell_type": "markdown",
   "id": "5652beac",
   "metadata": {},
   "source": [
    "This line of code will download the data in NetCDF format and save it as 'download.nc' in your current working directory."
   ]
  },
  {
   "cell_type": "markdown",
   "id": "c2483da3",
   "metadata": {},
   "source": [
    "## Close the API Session\n",
    "After retrieving the data, it's good practice to close the API session."
   ]
  },
  {
   "cell_type": "code",
   "execution_count": 7,
   "id": "4f707f40",
   "metadata": {},
   "outputs": [],
   "source": [
    "c.close()"
   ]
  },
  {
   "cell_type": "markdown",
   "id": "36c19e4b",
   "metadata": {},
   "source": [
    "These steps outline how to use the cdsapi library to access and download climate data from the Copernicus Climate Data Store. Remember to replace the example API key with your actual API key obtained from the CDS website."
   ]
  }
 ],
 "metadata": {
  "kernelspec": {
   "display_name": "Python 3 (ipykernel)",
   "language": "python",
   "name": "python3"
  },
  "language_info": {
   "codemirror_mode": {
    "name": "ipython",
    "version": 3
   },
   "file_extension": ".py",
   "mimetype": "text/x-python",
   "name": "python",
   "nbconvert_exporter": "python",
   "pygments_lexer": "ipython3",
   "version": "3.9.12"
  }
 },
 "nbformat": 4,
 "nbformat_minor": 5
}
