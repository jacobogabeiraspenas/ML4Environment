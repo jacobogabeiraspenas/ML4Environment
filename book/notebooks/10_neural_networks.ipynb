{
 "cells": [
  {
   "cell_type": "markdown",
   "id": "76bc35cd",
   "metadata": {
    "slideshow": {
     "slide_type": "slide"
    }
   },
   "source": [
    "# Neural Networks\n",
    "\n",
    "[![Binder](https://mybinder.org/badge_logo.svg)](https://mybinder.org/v2/git/https%3A%2F%2Fgitlab.in2p3.fr%2Fenergy4climate%2Fpublic%2Feducation%2Fmachine_learning_for_climate_and_energy/master?filepath=book%2Fnotebooks%2F10_neural_networks.ipynb)"
   ]
  },
  {
   "cell_type": "markdown",
   "id": "bf385f06",
   "metadata": {
    "slideshow": {
     "slide_type": "subslide"
    }
   },
   "source": [
    "<div class=\"alert alert-block alert-warning\">\n",
    "    <b>Prerequisites</b>\n",
    "\n",
    "- Matrix calculus\n",
    "- Ordinary least squares\n",
    "- Classification\n",
    "</div>"
   ]
  },
  {
   "cell_type": "markdown",
   "id": "14edfd21",
   "metadata": {
    "slideshow": {
     "slide_type": "subslide"
    }
   },
   "source": [
    "<div class=\"alert alert-block alert-info\">\n",
    "    <b>Learning Outcomes</b>\n",
    "\n",
    "- Neural network formalism\n",
    "- Gradient descent and Backpropagation \n",
    "- From mathematical reasoning to empirical reasoning\n",
    "</div>"
   ]
  },
  {
   "cell_type": "markdown",
   "id": "2948ff71",
   "metadata": {
    "slideshow": {
     "slide_type": "subslide"
    }
   },
   "source": [
    "## Introduction"
   ]
  },
  {
   "cell_type": "markdown",
   "id": "53388962",
   "metadata": {
    "slideshow": {
     "slide_type": "slide"
    }
   },
   "source": [
    "In this notebook we are going to review the architecture of neural networks. Our goal is to build a neural network from scratch in order to study each component. "
   ]
  },
  {
   "cell_type": "markdown",
   "id": "cc44398f",
   "metadata": {
    "slideshow": {
     "slide_type": "subslide"
    }
   },
   "source": [
    "Our task will be to recognize hand-written digits from the [MNIST](http://yann.lecun.com/exdb/mnist/) dataset. The dataset consists in 70000 images of hand-written digits (from 0 to 9) collected in an American administration. This dataset is extremely popular in machine learning because it is small and clean with well identified categories.\n",
    "\n",
    "As you can notice this data set is not related to climate or energy. We have indeed not found (yet) an equivalent data set that is small enough to quickly build and test our functions."
   ]
  },
  {
   "cell_type": "markdown",
   "id": "d2a69532",
   "metadata": {
    "slideshow": {
     "slide_type": "subslide"
    }
   },
   "source": [
    "Here is an example of a sequence of numbers from this dataset\n",
    "\n",
    "<img alt=\"weather\" src=\"images/MnistExamples.png\" width=400 style=\"float:center\">\n",
    "\n"
   ]
  },
  {
   "cell_type": "markdown",
   "id": "7e91f51b",
   "metadata": {
    "slideshow": {
     "slide_type": "subslide"
    }
   },
   "source": [
    "In this figure, you have no issue recognizing each digit: for each image, we immediately attach a label to our visual impression. Yet the task of writing a computer program that is able to identify each individual image seems complicated. Indeed, each digit can be written in many different ways and there are no clear logical instructions on how to proceed to identify the digit pattern."
   ]
  },
  {
   "cell_type": "markdown",
   "id": "6050037d",
   "metadata": {
    "slideshow": {
     "slide_type": "subslide"
    }
   },
   "source": [
    "Instead, we will follow our machine learning principle that we have been studying up to that point, i.e. learn the patterns from a training batch of images. The function we are trying to capture is\n",
    "\n",
    "\\begin{equation}\n",
    "y = f(\\mathbf x)\n",
    "\\end{equation}\n",
    "\n",
    "where $y$ is the number of the digit written on the image and $\\mathbf x$ is the content of the image."
   ]
  },
  {
   "cell_type": "markdown",
   "id": "54ae3c1f",
   "metadata": {
    "slideshow": {
     "slide_type": "subslide"
    }
   },
   "source": [
    "In the example of handwritten digits, $\\mathbf x$ is a multivariate vector that contains the grayscale value of each pixel of the image. Each image of this dataset is 28 pixels by 28 pixels and so each vector of the input space has dimension 784. We will use the convention that 0 is white and 1 is black. Any value between 0 and 1 is gray."
   ]
  },
  {
   "cell_type": "markdown",
   "id": "44b351fa",
   "metadata": {
    "slideshow": {
     "slide_type": "subslide"
    }
   },
   "source": [
    "<div class=\"alert alert-block alert-warning\">\n",
    "    <b>Warning</b>\n",
    "    \n",
    "This dataset is great for teaching purposes but it may also convey the idea that neural networks are simple and always work. If you attack more serious problems in machine learning, you will soon realize that data sets are usually way more complicated \n",
    "</div>"
   ]
  },
  {
   "cell_type": "markdown",
   "id": "143c0ec3",
   "metadata": {
    "slideshow": {
     "slide_type": "subslide"
    }
   },
   "source": [
    "## Building blocks of Neural Networks"
   ]
  },
  {
   "cell_type": "markdown",
   "id": "9a02f79c",
   "metadata": {
    "slideshow": {
     "slide_type": "subslide"
    }
   },
   "source": [
    "### Neurons\n",
    "\n",
    "In neural network terminology, we call $\\mathbf x$ the input layer. Each component of $\\mathbf x$ is called a **neuron**. The numerical value held by the neuron is called the **activation** of the neuron and can take any real number. For the input layer, the activation corresponds to the grayscale value of the corresponding pixel on the image: white pixels have activation equal to zero and black pixels have activation equal to 1. By convention, we say a neuron is *active* when it holds a positive value and *inactive* when it holds a negative value."
   ]
  },
  {
   "cell_type": "markdown",
   "id": "950c0468",
   "metadata": {
    "slideshow": {
     "slide_type": "subslide"
    }
   },
   "source": [
    "<img alt=\"weather\" src=\"images/mnist_52.png\" width=300 style=\"float:left\">\n",
    "\n",
    "\\begin{align}\n",
    " \\mathbf{x} &= \\begin{bmatrix}\n",
    "    x_1 \\\\\n",
    "    x_2 \\\\\n",
    "    x_3 \\\\\n",
    "    \\vdots \\\\\n",
    "    x_n \\\\\n",
    "  \\end{bmatrix}\n",
    "\\end{align}\n",
    "\n"
   ]
  },
  {
   "cell_type": "markdown",
   "id": "5f439702",
   "metadata": {
    "slideshow": {
     "slide_type": "subslide"
    }
   },
   "source": [
    "We want our neural network to predict a digit between 0 and 9. For now, we will consider the case where the output is a 10-dimensional vector $\\mathbf y$. Each component $y_i$ of $\\mathbf y$ can be interpreted as a likelihood that the input image corresponds to the digit $i-1$ (if we start indexing at 1). For instance it is very likely that \n",
    "\n",
    "\\begin{align}\n",
    "\\mathbf y &= \\begin{bmatrix}\n",
    "    0.01 \\\\\n",
    "    0.9 \\\\\n",
    "    0.2 \\\\\n",
    "    0.1 \\\\\n",
    "    0.05 \\\\\n",
    "    0.09 \\\\\n",
    "    0.05 \\\\\n",
    "    0.03 \\\\\n",
    "    0.25 \\\\\n",
    "    0.1 \\\\\n",
    "  \\end{bmatrix}\n",
    "\\end{align}\n",
    "\n",
    "corresponds to a digit $i=1$. Note that the output does not have to be between 0 and 1. In this case, we simple select the neuron that is the most active."
   ]
  },
  {
   "cell_type": "markdown",
   "id": "83b2d2f0",
   "metadata": {
    "slideshow": {
     "slide_type": "subslide"
    }
   },
   "source": [
    "Hence, the simplest neural network that one can build for this problem is summarized in the next figure:\n",
    "\n",
    "<img alt=\"weather\" src=\"images/nnet_mnist.png\" width=300 style=\"float:center\">\n"
   ]
  },
  {
   "cell_type": "markdown",
   "id": "bc6b98f3",
   "metadata": {
    "slideshow": {
     "slide_type": "subslide"
    }
   },
   "source": [
    "In the figure above, note that there are links between the input layer and the output layer. These links are here to illustrate the fact that each component of $\\mathbf y$ is a function of all input variables. One simplest possible form to combine all inputs is the linear combination is\n",
    "\n",
    "\\begin{equation}\n",
    "\\hat y_i = \\sum_j w_{ij} x_j + b_i\n",
    "\\end{equation}\n",
    "\n",
    "that you can also put in matrix form\n",
    "\n",
    "\\begin{equation}\n",
    "\\hat {\\mathbf y} = \\mathbf W \\mathbf x + \\mathbf b\n",
    "\\end{equation}\n",
    "\n",
    "where $\\mathbf {W}$ is a matrix of the weights and $\\mathbf b$ is the bias. When $\\mathbf b=0$, you can think of this equation as a weighted sum of the input variables."
   ]
  },
  {
   "cell_type": "markdown",
   "id": "3fbd5418",
   "metadata": {
    "slideshow": {
     "slide_type": "subslide"
    }
   },
   "source": [
    "In order to train this network, you need to adjust the weights and biases in order to get the desired output $\\mathbf y$. So far this is a multi-dimensional linear classification problem and you already know several methods to get the solution."
   ]
  },
  {
   "cell_type": "markdown",
   "id": "76db83b5",
   "metadata": {
    "slideshow": {
     "slide_type": "subslide"
    }
   },
   "source": [
    "### From a linear model to a non-linear model\n",
    "\n",
    "Let suppose now that you apply a non-linear function to the linear combination of the input variables.  We call these functions **activation function** since their role is to turn on or off a neuron. The key here (and in neural network in general) is that these functions must be non-linear functions of the input parameters (otherwise, we would simply do a linear regression). Again, we call the output of these function the activation of a neuron.\n",
    "\n",
    "Let us introduce some possible (non-linear) activation functions."
   ]
  },
  {
   "cell_type": "markdown",
   "id": "1cdfb1e0",
   "metadata": {
    "slideshow": {
     "slide_type": "subslide"
    }
   },
   "source": [
    "### Heaviside function"
   ]
  },
  {
   "cell_type": "markdown",
   "id": "e22d2e30",
   "metadata": {
    "slideshow": {
     "slide_type": "subslide"
    }
   },
   "source": [
    "The Heaviside function (or step function) is defined as\n",
    "\n",
    "\\begin{equation}\n",
    "f(x)={\\begin{cases}1,&x>0\\\\0,&x\\leq 0\\end{cases}}\n",
    "\\end{equation}\n",
    "\n",
    "If we apply this function to the weighted sum, we then get a binary neuron: its activation state is either 0 or 1. In neural network terminology, the association of the weighted sum and Heaviside activation function is called a **Perceptron**."
   ]
  },
  {
   "cell_type": "markdown",
   "id": "e6bba5f8",
   "metadata": {
    "slideshow": {
     "slide_type": "subslide"
    }
   },
   "source": [
    "#### Perceptrons\n",
    "A perceptron is a function that maps an input vector $\\mathbf x$ to  $f(\\mathbf x)$ a single binary value:\n",
    "\n",
    "\\begin{equation}\n",
    "f(\\mathbf {x} )={\\begin{cases}1&{\\text{if }}\\ \\mathbf {w}^\\top \\mathbf {x} +b>0,\\\\0&{\\text{otherwise}}\\end{cases}}\n",
    "\\end{equation}\n",
    "\n",
    "where $\\mathbf {w}$ is a vector of of the weights and $b$ is the bias. As explained before, When $b=0$, you can think of this equation as a weighted sum of the input variables: if this sum is greater than zero, the output neuron is equal to 1. The bias shifts the decision boundary away from the origin and does not depend on any input value. So now, the activation state of a neuron can only be 0 or 1."
   ]
  },
  {
   "cell_type": "markdown",
   "id": "32b2a61c",
   "metadata": {
    "slideshow": {
     "slide_type": "subslide"
    }
   },
   "source": [
    "Since we have 10 output neurons, we need 10 perceptrons functions $f_i$, $i\\in[0,9]$ and for each function we associate different weights and biases. Since we want to select only one category, we can set the output of the perceptron to 1 for the biggest $f_i(\\mathbf x)$ and set the output to zero for all the other components. We are left with an optimization problem where we need to adjust these weights and biases to minimize the error in the image recognition."
   ]
  },
  {
   "cell_type": "markdown",
   "id": "d50be2cf",
   "metadata": {
    "slideshow": {
     "slide_type": "subslide"
    }
   },
   "source": [
    "> ***Question***\n",
    "> - For this simple network, do you have an intuition for how the weights should combine to recognize a \"0\"? a \"9\"? (again think of the perceptron as a weighted sum)\n",
    ">\n",
    "> Let's check it with scikit-learn. For now we will let scikit-learn handle all the heavy lifting (i.e. finding the best set of weights and biases)"
   ]
  },
  {
   "cell_type": "code",
   "execution_count": 1,
   "id": "575f3c1a",
   "metadata": {
    "slideshow": {
     "slide_type": "subslide"
    }
   },
   "outputs": [],
   "source": [
    "import gzip\n",
    "import numpy as np\n",
    "import matplotlib.pyplot as plt\n",
    "from pathlib import Path\n",
    "\n",
    "# global variable\n",
    "mnist_im_size = 28"
   ]
  },
  {
   "cell_type": "code",
   "execution_count": 2,
   "id": "7235cb04",
   "metadata": {
    "slideshow": {
     "slide_type": "subslide"
    }
   },
   "outputs": [],
   "source": [
    "def load_mnist_images(filename, num_images):\n",
    "    '''\n",
    "    return flatten images\n",
    "    '''\n",
    "    f = gzip.open(filename,'r')\n",
    "    mnist_im_size = 28  \n",
    "    f.read(16)\n",
    "    buf = f.read(num_images*mnist_im_size**2)\n",
    "    images = np.frombuffer(buf, dtype=np.uint8)/255.\n",
    "    images = images.reshape(num_images, mnist_im_size**2)\n",
    "    f.close()\n",
    "\n",
    "    return images"
   ]
  },
  {
   "cell_type": "code",
   "execution_count": 3,
   "id": "7489864c",
   "metadata": {
    "slideshow": {
     "slide_type": "subslide"
    }
   },
   "outputs": [],
   "source": [
    "def load_mnist_labels(filename, num_labels):\n",
    "\n",
    "    f = gzip.open(filename,'r')\n",
    "    f.read(8)\n",
    "    buf = f.read(num_labels)\n",
    "    labels = np.frombuffer(buf, dtype=np.uint8).astype(np.int64)\n",
    "    f.close()\n",
    "  \n",
    "    return labels"
   ]
  },
  {
   "cell_type": "code",
   "execution_count": 4,
   "id": "c7ae6f79",
   "metadata": {
    "slideshow": {
     "slide_type": "subslide"
    }
   },
   "outputs": [],
   "source": [
    "def plot_mnist_image(image):\n",
    "    \n",
    "    n_side = int(np.sqrt(len(image)))\n",
    "    plt.figure()\n",
    "    plt.imshow(image.reshape((n_side,n_side)), cmap=plt.cm.gray_r)"
   ]
  },
  {
   "cell_type": "code",
   "execution_count": 5,
   "id": "e8d041da",
   "metadata": {
    "slideshow": {
     "slide_type": "subslide"
    }
   },
   "outputs": [],
   "source": [
    "dir_mnist = Path('data/mnist/')\n",
    "\n",
    "n_train = 60000\n",
    "file_train_images = 'train-images-idx3-ubyte.gz'\n",
    "file_train_labels = 'train-labels-idx1-ubyte.gz'\n",
    "X_train = load_mnist_images(Path(dir_mnist, file_train_images), n_train)\n",
    "y_train = load_mnist_labels(Path(dir_mnist, file_train_labels), n_train)\n",
    "\n",
    "n_test = 10000\n",
    "file_test_images = 't10k-images-idx3-ubyte.gz'\n",
    "file_test_labels = 't10k-labels-idx1-ubyte.gz'\n",
    "X_test  = load_mnist_images(Path(dir_mnist, file_test_images), n_test)\n",
    "y_test  = load_mnist_labels(Path(dir_mnist, file_test_labels), n_test)"
   ]
  },
  {
   "cell_type": "code",
   "execution_count": 6,
   "id": "7ef1c805",
   "metadata": {
    "slideshow": {
     "slide_type": "subslide"
    }
   },
   "outputs": [
    {
     "data": {
      "image/png": "[encoded data removed]",
      "text/plain": [
       "<Figure size 432x288 with 1 Axes>"
      ]
     },
     "metadata": {
      "needs_background": "light"
     },
     "output_type": "display_data"
    },
    {
     "data": {
      "image/png": "[encoded data removed]",
      "text/plain": [
       "<Figure size 432x288 with 1 Axes>"
      ]
     },
     "metadata": {
      "needs_background": "light"
     },
     "output_type": "display_data"
    }
   ],
   "source": [
    "# An example of 0 and 9\n",
    "plot_mnist_image(X_train[1])\n",
    "plot_mnist_image(X_train[4])"
   ]
  },
  {
   "cell_type": "code",
   "execution_count": 7,
   "id": "7b93f547",
   "metadata": {
    "slideshow": {
     "slide_type": "subslide"
    }
   },
   "outputs": [
    {
     "data": {
      "text/plain": [
       "0.8853833333333333"
      ]
     },
     "execution_count": 7,
     "metadata": {},
     "output_type": "execute_result"
    }
   ],
   "source": [
    "from sklearn.linear_model import Perceptron\n",
    "clf = Perceptron(tol=1e-3, random_state=0)\n",
    "clf.fit(X_train, y_train)\n",
    "clf.score(X_train, y_train)"
   ]
  },
  {
   "cell_type": "code",
   "execution_count": 8,
   "id": "c9342dde",
   "metadata": {
    "slideshow": {
     "slide_type": "subslide"
    }
   },
   "outputs": [
    {
     "data": {
      "image/png": "[encoded data removed]",
      "text/plain": [
       "<Figure size 432x288 with 1 Axes>"
      ]
     },
     "metadata": {
      "needs_background": "light"
     },
     "output_type": "display_data"
    },
    {
     "data": {
      "image/png": "[encoded data removed]",
      "text/plain": [
       "<Figure size 432x288 with 1 Axes>"
      ]
     },
     "metadata": {
      "needs_background": "light"
     },
     "output_type": "display_data"
    }
   ],
   "source": [
    "plot_mnist_image(clf.coef_[0])\n",
    "plot_mnist_image(clf.coef_[9])"
   ]
  },
  {
   "cell_type": "markdown",
   "id": "65f5236d",
   "metadata": {
    "slideshow": {
     "slide_type": "subslide"
    }
   },
   "source": [
    "In the figure above, we plotted the weights for the class \"0\" and the weights for the class \"9\". You can compare these pattern with the actual \"0\" and \"9\" that we plotted above. It seems that the weights are trying to pick up the edges of the digit pattern. However, the signal seems very noisy. We are actually moving away from linear methods (maximum interpretability) and we are trading interpretability against performance. Note that the score of this simple perceptron model is 88% (correctly classified digits). "
   ]
  },
  {
   "cell_type": "markdown",
   "id": "4e51f17a",
   "metadata": {
    "slideshow": {
     "slide_type": "subslide"
    }
   },
   "source": [
    "Perceptrons are highly non linear functions: when the weighted sum is close the threshold, a small modification of the input parameter will introduce a change of category. Moreover, perceptrons are not continuous functions and so they are hard to differentiate (optimization perspective). In order to overcome these limitations, let us introduce two other popular activation functions: the sigmoid and the rectifier (ReLU for Rectified Linear Unit)"
   ]
  },
  {
   "cell_type": "markdown",
   "id": "a732f84c",
   "metadata": {
    "slideshow": {
     "slide_type": "subslide"
    }
   },
   "source": [
    "### Sigmoid activation function\n",
    "\n",
    "The sigmoid function is a good alternative to the Heaviside because the function and its derivative are continuous. (cf. classification)\n",
    "\n",
    "\n",
    "> ***Question***\n",
    ">\n",
    "> - Can you recall the main properties of the sigmoid function? What is the role of the weights and biases?"
   ]
  },
  {
   "cell_type": "code",
   "execution_count": 9,
   "id": "bbd5b25d",
   "metadata": {
    "slideshow": {
     "slide_type": "subslide"
    }
   },
   "outputs": [],
   "source": [
    "def sigmoid(x):                                        \n",
    "    return 1 / (1 + np.exp(-x))"
   ]
  },
  {
   "cell_type": "code",
   "execution_count": 10,
   "id": "602fb1a6",
   "metadata": {
    "slideshow": {
     "slide_type": "subslide"
    }
   },
   "outputs": [
    {
     "data": {
      "text/plain": [
       "[<matplotlib.lines.Line2D at 0x7f7c61f2a4f0>]"
      ]
     },
     "execution_count": 10,
     "metadata": {},
     "output_type": "execute_result"
    },
    {
     "data": {
      "image/png": "[encoded data removed]",
      "text/plain": [
       "<Figure size 432x288 with 1 Axes>"
      ]
     },
     "metadata": {
      "needs_background": "light"
     },
     "output_type": "display_data"
    }
   ],
   "source": [
    "x = np.linspace(-10,10,100)\n",
    "plt.plot(x,sigmoid(x))"
   ]
  },
  {
   "cell_type": "markdown",
   "id": "ed2e80f1",
   "metadata": {
    "slideshow": {
     "slide_type": "subslide"
    }
   },
   "source": [
    "### ReLU activation function\n",
    "\n",
    "The ReLU activation function is defined as\n",
    "\n",
    "\\begin{equation}\n",
    "f(x)=\\max(0,x)\n",
    "\\end{equation}\n",
    "\n",
    "This function will \"activate\" a neuron only if the input value is positive. Note that with this activation function, the activation level is not restricted to be between 0 an 1. Advantages of ReLU are that \n",
    "- they are cheap to compute (later on, we are going to use millions of these units so we need to take that into account)\n",
    "- although its derivative is not continuous, is has nice properties for optimization purposes (the gradient does not vanish for large values of x, more on that later)"
   ]
  },
  {
   "cell_type": "code",
   "execution_count": 11,
   "id": "eef37fc3",
   "metadata": {
    "slideshow": {
     "slide_type": "subslide"
    }
   },
   "outputs": [],
   "source": [
    "def relu(x):                                        \n",
    "    return np.maximum(0,x)"
   ]
  },
  {
   "cell_type": "code",
   "execution_count": 12,
   "id": "a860d1f6",
   "metadata": {
    "slideshow": {
     "slide_type": "subslide"
    }
   },
   "outputs": [
    {
     "data": {
      "text/plain": [
       "[<matplotlib.lines.Line2D at 0x7f7c61e9a8e0>]"
      ]
     },
     "execution_count": 12,
     "metadata": {},
     "output_type": "execute_result"
    },
    {
     "data": {
      "image/png": "[encoded data removed]",
      "text/plain": [
       "<Figure size 432x288 with 1 Axes>"
      ]
     },
     "metadata": {
      "needs_background": "light"
     },
     "output_type": "display_data"
    }
   ],
   "source": [
    "plt.plot(x,relu(x))"
   ]
  },
  {
   "cell_type": "markdown",
   "id": "43a67174",
   "metadata": {
    "slideshow": {
     "slide_type": "subslide"
    }
   },
   "source": [
    "### Notation simplification\n",
    "\n",
    "As the ordinary least square problem, we will absorb the bias into the weight matrix. To do so, we need to append a \"1\" to the $\\mathbf x$ vector. The write the weighted sum\n",
    "\n",
    "\\begin{equation}\n",
    "\\mathbf z = \\mathbf W \\mathbf x\n",
    "\\end{equation}\n",
    "\n",
    "where the last column of $\\mathbf W$ is equal to $\\mathbf b$, and the dimension of $\\mathbf x$ is now $n+1$."
   ]
  },
  {
   "cell_type": "markdown",
   "id": "59661750",
   "metadata": {
    "slideshow": {
     "slide_type": "subslide"
    }
   },
   "source": [
    "### Cost function\n",
    "\n",
    "In order to asses the performance of our network, we introduce the cost function\n",
    "\n",
    "\\begin{equation}\n",
    "C = \\frac{1}{M}\\sum_{m} \\| \\mathbf y_m - \\mathbf {\\hat y}_m \\|^2\\, ,\n",
    "\\end{equation}\n",
    "where $\\mathbf y_m$ is the true output of the $m^{th}$ sample and $\\mathbf {\\hat y}_m$ is our estimated value of the output for that sample. The sum spans the entire training set of size $M$. Our task here is to find the best value of the parameters that minimize that cost function.\n",
    "\n",
    "For an activation function $\\sigma$, the cost function for an individual input writes\n",
    "\n",
    "\\begin{equation}\n",
    "C_m = \\| \\mathbf y_m - \\sigma (\\mathbf W \\mathbf x_m) \\|^2\\, .\n",
    "\\end{equation}\n"
   ]
  },
  {
   "cell_type": "markdown",
   "id": "a8295eb5",
   "metadata": {
    "slideshow": {
     "slide_type": "subslide"
    }
   },
   "source": [
    "### Iterative procedure\n",
    "\n",
    "\n",
    "In order to illustrate the iterative procedure and the gradient descent, let's consider a simpler form of the cost function\n",
    "\n",
    "\\begin{equation}\n",
    "C = (y - \\sigma (\\mathbf w^\\top \\mathbf x) )^2\\, ,\n",
    "\\end{equation}\n",
    "where $y$ is a scalar and $\\mathbf w$  and $\\mathbf x$ are vectors.\n",
    "\n",
    "We want to find the set of weights and biases that minimize the cost function $C$. The cost function is minimum when \n",
    "\n",
    "\\begin{equation}\n",
    "\\frac{d C}{d \\mathbf W} = 0\n",
    "\\end{equation}"
   ]
  },
  {
   "cell_type": "markdown",
   "id": "0cddf62f",
   "metadata": {
    "slideshow": {
     "slide_type": "subslide"
    }
   },
   "source": [
    "\n",
    "> ***Question***\n",
    "> \n",
    "> - Compute $dC/d \\mathbf w$\n",
    "\n",
    "This non linear equation has no closed form solution so we will instead use an iterative procedure."
   ]
  },
  {
   "cell_type": "markdown",
   "id": "e0d07153",
   "metadata": {
    "slideshow": {
     "slide_type": "subslide"
    }
   },
   "source": [
    "We start from a first guess for the weights $\\mathbf w^{(0)}$. For this value of the weights, we compute the value of the cost function $C$. We then add increments \n",
    "\n",
    "\\begin{equation}\n",
    "\\mathbf w^{(1)} = \\mathbf w^{(0)} + \\delta \\mathbf w^{(0)}\n",
    "\\end{equation}\n",
    "\n",
    "The cost function will vary by an amount \n",
    "\n",
    "\\begin{align}\n",
    "\\Delta C &= C\\left(\\mathbf w^{(1)}\\right) - C\\left(\\mathbf w^{(0)}\\right)\\\\\n",
    "& = C\\left(\\mathbf w^{(0)} + \\delta \\mathbf w^{(0)}\\right) - C\\left(\\mathbf w^{(0)}\\right)\\\\\n",
    " & \\simeq \\left.\\frac{d C}{d \\mathbf w}\\right|_{\\mathbf w^{(0)}} \\delta \\mathbf w^{(0)}\n",
    "\\end{align}"
   ]
  },
  {
   "cell_type": "markdown",
   "id": "1dda438b",
   "metadata": {
    "slideshow": {
     "slide_type": "subslide"
    }
   },
   "source": [
    "> ***Question***\n",
    ">\n",
    ">- Show that if we choose \n",
    "\\begin{equation}\n",
    "\\delta \\mathbf w = - \\lambda  \\left[\\frac{d C}{d \\mathbf w}\\right]^\\top\n",
    "\\end{equation}\n",
    "> then at each iteration, we have $\\Delta C < 0$. (With $\\lambda$ a positive number.)\n"
   ]
  },
  {
   "cell_type": "markdown",
   "id": "9760f802",
   "metadata": {
    "slideshow": {
     "slide_type": "subslide"
    }
   },
   "source": [
    "The parameter $\\lambda$ is called the **learning rate**.\n",
    "\n",
    "So in the limit where linearity holds we can compute the little increments in the weights and biases that ensure that the cost function will decrease. This method is called the **Gradient descent**.\n",
    "\n",
    "1d"
   ]
  },
  {
   "cell_type": "markdown",
   "id": "bd5cb1e6",
   "metadata": {
    "slideshow": {
     "slide_type": "subslide"
    }
   },
   "source": [
    "### Illustration of the gradient descent\n",
    "\n",
    "We illustrate the gradient descent technique in the next figure for the case where $\\mathbf w$ is dimension 2. The cost function $C$ is plotted with contours: it is minimum in the yellow area. The initial guess $\\mathbf w^{(0)}$ is plotted with the red dot. The value of $\\mathbf w$ for which $dC/d\\mathbf w = 0$ is plotted with a red cross.\n",
    "\n",
    "\n",
    "<img alt=\"weather\" src=\"images/gradient_descent.png\" width=400 style=\"float:center\">\n"
   ]
  },
  {
   "cell_type": "markdown",
   "id": "9f23d1c4",
   "metadata": {
    "slideshow": {
     "slide_type": "subslide"
    }
   },
   "source": [
    "> ***Question***\n",
    ">\n",
    "> - What is the problem if $\\lambda$ is too small? too big?\n",
    "> - What happens if the cost function is a complicated function of $\\mathbf w$ with many local minima?\n",
    "\n",
    "In practice, the gradient descent method works well but is very slow to converge. There are other methods that have better convergence properties for this iterative process: [Newton-Raphson](https://en.wikipedia.org/wiki/Newton%27s_method), [Conjugate gradient](https://en.wikipedia.org/wiki/Conjugate_gradient_method), etc (see turorial)"
   ]
  },
  {
   "cell_type": "markdown",
   "id": "1775ea7e",
   "metadata": {
    "slideshow": {
     "slide_type": "subslide"
    }
   },
   "source": [
    "### Hidden layers"
   ]
  },
  {
   "cell_type": "markdown",
   "id": "b3d623ac",
   "metadata": {
    "slideshow": {
     "slide_type": "subslide"
    }
   },
   "source": [
    "In the perceptron model, there is only a limited amount of complexity that you can model between the input and the output. This complexity is limited by the fact that two variables interact via the weighted sum and then via the sigmoid function. One way to overcome this limitation is to add one or more **hidden layers** of neurons between the input and output layers.\n"
   ]
  },
  {
   "cell_type": "markdown",
   "id": "f3be17ee",
   "metadata": {
    "slideshow": {
     "slide_type": "subslide"
    }
   },
   "source": [
    "The reason to add these layers is break down the problem into multiple small task: for the digit recognition that could be \"pick and edge\", \"find a strait line\".\n",
    "\n",
    "<img alt=\"weather\" src=\"images/hidden_layer.png\" width=400 style=\"float:center\">"
   ]
  },
  {
   "cell_type": "markdown",
   "id": "57452641",
   "metadata": {
    "slideshow": {
     "slide_type": "subslide"
    }
   },
   "source": [
    "The figure above is an illustration of the simplest possible architecture of neural network: it comprises an input layer of $n$ neurons, one hidden layer, and one output layer. For historical reasons, neural networks are sometimes called multi-layer perceptron (MLP) even if the activation functions in the hidden layers are not a perceptron."
   ]
  },
  {
   "cell_type": "markdown",
   "id": "30b66ecf",
   "metadata": {
    "slideshow": {
     "slide_type": "subslide"
    }
   },
   "source": [
    "### Universal approximation theorem\n",
    "\n",
    "Why adding more layers help? \n",
    "\n",
    "The universal approximation theorem  states that a feedforward network with at least one hidden layer can approximate any continuous function with an error that can be made as small as we want by adding neurons in the hidden layer.\n",
    "\n",
    "This theorem is extremely powerful because if there is indeed a function\n",
    "\n",
    "\\begin{equation}\n",
    "\\mathbf y = f(\\mathbf x)\n",
    "\\end{equation}\n",
    "\n",
    "between an input vector $\\mathbf x$ and an output vector $\\mathbf y$. Then there exists a neural network that can approximate this function with an arbitrarily small error. Hence, neural networks are \"universal\" tools (can be used every time we believe there exists a mapping: digit recognition, classification, uncover physical laws, etc.)"
   ]
  },
  {
   "cell_type": "markdown",
   "id": "623bfcdf",
   "metadata": {
    "slideshow": {
     "slide_type": "subslide"
    }
   },
   "source": [
    "One caveat however is that, if we are guaranteed the existence of a network, we have no guidance on how to find such network. We need to build a strategy to find the weights and biases to find that optimal solution."
   ]
  },
  {
   "cell_type": "markdown",
   "id": "48ebb8d8",
   "metadata": {
    "slideshow": {
     "slide_type": "subslide"
    }
   },
   "source": [
    "### Training network: backpropagation\n",
    "\n"
   ]
  },
  {
   "cell_type": "markdown",
   "id": "d52030dd",
   "metadata": {
    "slideshow": {
     "slide_type": "subslide"
    }
   },
   "source": [
    "\n",
    "Let's consider the case where we have more than one hidden layer. We write with a subscript $\\mathbf a^l$ the activation in the $l^{th}$ layer. So we have\n",
    "\n",
    "\\begin{equation}\n",
    "\\mathbf a^l = \\sigma \\left( \\mathbf W^l \\mathbf a^{l-1} \\right)\n",
    "\\end{equation}\n",
    "\n",
    "with $\\mathbf W^l$ the matrix of weights to compute the activation in layer $l$. Remember also that we included the bias in the last column of $\\mathbf W^l$. For now, we will consider that the input in the first layer: $\\mathbf x = \\mathbf a^0$ and the output are the activation of the last layer $\\mathbf y = \\mathbf a^L$. In this case, there are $L+1$ layers.\n",
    "\n"
   ]
  },
  {
   "cell_type": "markdown",
   "id": "97fc5146",
   "metadata": {
    "slideshow": {
     "slide_type": "subslide"
    }
   },
   "source": [
    "As before, we also note \n",
    "\n",
    "\\begin{equation}\n",
    "\\mathbf z^l = \\mathbf W^l \\mathbf a^{l-1}\n",
    "\\end{equation}\n",
    "\n",
    "the weighted sum in layer $l$."
   ]
  },
  {
   "cell_type": "markdown",
   "id": "793f3628",
   "metadata": {
    "slideshow": {
     "slide_type": "subslide"
    }
   },
   "source": [
    "> ***Question***\n",
    ">\n",
    "> - If there are $p$ neurons in layer $l-1$ and $q$ neurons in layer $l$, what is the dimension of each of the terms in the equation above? (Hint: don't forget about the bias)"
   ]
  },
  {
   "cell_type": "markdown",
   "id": "f41f8e8b",
   "metadata": {
    "slideshow": {
     "slide_type": "subslide"
    }
   },
   "source": [
    "The cost function is \n",
    "\n",
    "\\begin{equation}\n",
    "C = \\frac{1}{M}\\sum_{m} \\| \\mathbf y_m - \\mathbf a^L_m \\|^2\\, ,\n",
    "\\end{equation}\n",
    "\n",
    "where the sum is again over all input data. We want to compute the derivative of this cost function with respect to **all** weights and biases in the network in order to use the gradient descent algorithm\n",
    "\n",
    "\\begin{equation}\n",
    "\\frac{\\partial C}{\\partial \\mathbf W^l} \\, ,\n",
    "\\end{equation}\n",
    "for all $l$"
   ]
  },
  {
   "cell_type": "markdown",
   "id": "cc4ac682",
   "metadata": {
    "slideshow": {
     "slide_type": "subslide"
    }
   },
   "source": [
    "Chain rule\n",
    "\n",
    "\\begin{equation}\n",
    "\\frac{\\partial C}{\\partial \\mathbf W^l} = \\frac{\\partial C}{\\partial \\mathbf z^l} \\frac{\\partial \\mathbf z^l}{\\partial \\mathbf W^l}\n",
    "\\end{equation}\n",
    "\n",
    "\n",
    "Let us introduce the notation\n",
    "\n",
    "\\begin{equation}\n",
    "\\mathbf \\delta^l = \\frac{\\partial C}{\\partial \\mathbf z^l}\n",
    "\\end{equation}\n",
    "\n",
    "which is a row vector according to our numerator layout convention"
   ]
  },
  {
   "cell_type": "markdown",
   "id": "bbcebe09",
   "metadata": {
    "slideshow": {
     "slide_type": "subslide"
    }
   },
   "source": [
    "Let's first derive $\\mathbf \\delta^L$ in the last layer. For one individual sample\n",
    "\n",
    "\\begin{equation}\n",
    "C = ( \\mathbf y - \\sigma(\\mathbf z^L))^\\top ( \\mathbf y - \\sigma (\\mathbf z^L))\\, ,\n",
    "\\end{equation}\n",
    "\n",
    "so \n",
    "\n",
    "\\begin{equation}\n",
    "\\mathbf \\delta^L = \\frac{\\partial C}{\\partial \\mathbf z^l} = -2( \\mathbf y - \\sigma(\\mathbf z^L))^\\top \\Sigma' (\\mathbf z^L))\\, ,\n",
    "\\end{equation}\n"
   ]
  },
  {
   "cell_type": "markdown",
   "id": "4a1c41dc",
   "metadata": {
    "slideshow": {
     "slide_type": "subslide"
    }
   },
   "source": [
    "We have not seen the derivative of a vector by a matrix:\n",
    "\n",
    "\\begin{equation}\n",
    "\\frac{\\partial \\mathbf z^l}{\\partial \\mathbf W^l} = \\frac{\\partial }{\\partial \\mathbf W^l}  \\mathbf W^l \\mathbf a^{l-1}\n",
    "\\end{equation}\n",
    "\n",
    "is a tensor of order 3 with a lot of zeros. The above equation simplifies in\n",
    "\n",
    "\\begin{equation}\n",
    "\\frac{\\partial C}{\\partial \\mathbf W^l} = \\mathbf a^{l-1} \\delta^l\n",
    "\\end{equation}\n"
   ]
  },
  {
   "cell_type": "markdown",
   "id": "aa59b3f2",
   "metadata": {
    "slideshow": {
     "slide_type": "subslide"
    }
   },
   "source": [
    "> ***Question***\n",
    ">\n",
    "> - What is the physical interpretation of this derivative?\n",
    "> - *(Optional)* Verify that $\\frac{\\partial C}{\\partial \\mathbf W^l}$ is the same dimension as ${\\mathbf W^l}^\\top$"
   ]
  },
  {
   "cell_type": "markdown",
   "id": "3bd1d19e",
   "metadata": {
    "slideshow": {
     "slide_type": "subslide"
    }
   },
   "source": [
    "Recurrence relation\n",
    "\n",
    "\\begin{align}\n",
    "\\mathbf \\delta^l &= \\frac{\\partial C}{\\partial \\mathbf z^{l+1}} \\frac{\\partial \\mathbf z^{l+1}}{\\partial \\mathbf z^{l}}\\\\\n",
    "&= \\mathbf \\delta^{l+1} \\frac{\\partial \\mathbf z^{l+1}}{\\partial \\mathbf z^{l}}\n",
    "\\end{align}"
   ]
  },
  {
   "cell_type": "markdown",
   "id": "a3a5e0c0",
   "metadata": {
    "slideshow": {
     "slide_type": "subslide"
    }
   },
   "source": [
    "Moreover we have\n",
    "\n",
    "\\begin{equation}\n",
    "\\mathbf z^{l+1} = \\mathbf W^{l+1} \\mathbf a^l = \\mathbf W^{l+1} \\sigma(\\mathbf z^l)\n",
    "\\end{equation}\n",
    "\n",
    "so \n",
    "\n",
    "\\begin{equation}\n",
    "\\frac{\\partial \\mathbf z^{l+1}}{\\partial \\mathbf z^{l}} = \\mathbf W^{l+1} \\Sigma'(\\mathbf z^l)\n",
    "\\end{equation}\n",
    "\n",
    "where $\\Sigma'$ is a matrix with diagonal entries which are $\\sigma'(\\mathbf z^l)$"
   ]
  },
  {
   "cell_type": "markdown",
   "id": "243a688f",
   "metadata": {
    "slideshow": {
     "slide_type": "subslide"
    }
   },
   "source": [
    "So we have\n",
    "\n",
    "\\begin{equation}\n",
    "\\mathbf \\delta^l = \\mathbf \\delta^{l+1} \\mathbf W^{l+1} \\Sigma'(\\mathbf z^l)\n",
    "\\end{equation}"
   ]
  },
  {
   "cell_type": "markdown",
   "id": "99b3f4d8",
   "metadata": {
    "slideshow": {
     "slide_type": "subslide"
    }
   },
   "source": [
    "> ***Question***\n",
    "> \n",
    "> - Suppose that there are $p$ neurons in layer $l$ and $q$ neurons in layer $l+1$. What is the dimension of all the terms in the equation above?\n",
    "> - Since $\\Sigma'$ is a diagonal matrix, how are you going to compute the product of these 3 elements in a computer program?"
   ]
  },
  {
   "cell_type": "markdown",
   "id": "d243336d",
   "metadata": {
    "slideshow": {
     "slide_type": "subslide"
    }
   },
   "source": [
    "<div class=\"alert alert-block alert-info\">\n",
    "    <b>Main equations</b>\n",
    "\n",
    "- \\begin{equation}\n",
    "\\frac{\\partial C}{\\partial \\mathbf W^l} = \\mathbf a^{l-1} \\delta^l\n",
    "\\end{equation}\n",
    "    \n",
    "- \\begin{equation}\n",
    "\\mathbf \\delta^l = \\mathbf \\delta^{l+1} \\mathbf W^{l+1} \\Sigma'(\\mathbf z^l)\n",
    "\\end{equation}\n",
    "    \n",
    "    \n",
    "- \\begin{equation}\n",
    "\\mathbf \\delta^L = -2( \\mathbf y - \\sigma(\\mathbf z^L))^\\top \\Sigma' (\\mathbf z^L))\\, ,\n",
    "\\end{equation}\n",
    "</div>"
   ]
  },
  {
   "cell_type": "markdown",
   "id": "45f3da11",
   "metadata": {
    "slideshow": {
     "slide_type": "subslide"
    }
   },
   "source": [
    "Let's try to implement all these formula in the tutorial see if we can make sense of it."
   ]
  },
  {
   "cell_type": "markdown",
   "id": "631f9b78",
   "metadata": {
    "slideshow": {
     "slide_type": "subslide"
    }
   },
   "source": [
    "References\n",
    "\n",
    "- Deep Learning, Goodfellow Bengio Courville (2016), [Chap 6](https://www.deeplearningbook.org/contents/mlp.html)"
   ]
  },
  {
   "cell_type": "markdown",
   "id": "5e186998",
   "metadata": {
    "slideshow": {
     "slide_type": "slide"
    }
   },
   "source": [
    "***\n",
    "## Credit\n",
    "\n",
    "[//]: # \"This notebook is part of [E4C Interdisciplinary Center - Education](https://gitlab.in2p3.fr/energy4climate/public/education).\"\n",
    "Contributors include Bruno Deremble and Alexis Tantet.\n",
    "\n",
    "<br>\n",
    "\n",
    "<div style=\"display: flex; height: 70px\">\n",
    "    \n",
    "<img alt=\"Logo LMD\" src=\"images/logos/logo_lmd.jpg\" style=\"display: inline-block\"/>\n",
    "\n",
    "<img alt=\"Logo IPSL\" src=\"images/logos/logo_ipsl.png\" style=\"display: inline-block\"/>\n",
    "\n",
    "<img alt=\"Logo E4C\" src=\"images/logos/logo_e4c_final.png\" style=\"display: inline-block\"/>\n",
    "\n",
    "<img alt=\"Logo EP\" src=\"images/logos/logo_ep.png\" style=\"display: inline-block\"/>\n",
    "\n",
    "<img alt=\"Logo SU\" src=\"images/logos/logo_su.png\" style=\"display: inline-block\"/>\n",
    "\n",
    "<img alt=\"Logo ENS\" src=\"images/logos/logo_ens.jpg\" style=\"display: inline-block\"/>\n",
    "\n",
    "<img alt=\"Logo CNRS\" src=\"images/logos/logo_cnrs.png\" style=\"display: inline-block\"/>\n",
    "    \n",
    "</div>\n",
    "\n",
    "<hr>\n",
    "\n",
    "<div style=\"display: flex\">\n",
    "    <a rel=\"license\" href=\"http://creativecommons.org/licenses/by-sa/4.0/\"><img alt=\"Creative Commons License\" style=\"border-width:0; margin-right: 10px\" src=\"https://i.creativecommons.org/l/by-sa/4.0/88x31.png\" /></a>\n",
    "    <br>This work is licensed under a &nbsp; <a rel=\"license\" href=\"http://creativecommons.org/licenses/by-sa/4.0/\">Creative Commons Attribution-ShareAlike 4.0 International License</a>.\n",
    "</div>"
   ]
  }
 ],
 "metadata": {
  "celltoolbar": "Slideshow",
  "kernelspec": {
   "display_name": "Python 3 (ipykernel)",
   "language": "python",
   "name": "python3"
  },
  "language_info": {
   "codemirror_mode": {
    "name": "ipython",
    "version": 3
   },
   "file_extension": ".py",
   "mimetype": "text/x-python",
   "name": "python",
   "nbconvert_exporter": "python",
   "pygments_lexer": "ipython3",
   "version": "3.9.12"
  },
  "latex_envs": {
   "LaTeX_envs_menu_present": true,
   "autoclose": true,
   "autocomplete": false,
   "bibliofile": "biblio.bib",
   "cite_by": "apalike",
   "current_citInitial": 1,
   "eqLabelWithNumbers": true,
   "eqNumInitial": 1,
   "hotkeys": {
    "equation": "Ctrl-E",
    "itemize": "Ctrl-I"
   },
   "labels_anchors": false,
   "latex_user_defs": false,
   "report_style_numbering": false,
   "user_envs_cfg": false
  },
  "toc": {
   "base_numbering": 1,
   "nav_menu": {},
   "number_sections": true,
   "sideBar": true,
   "skip_h1_title": false,
   "title_cell": "Table of Contents",
   "title_sidebar": "Contents",
   "toc_cell": false,
   "toc_position": {},
   "toc_section_display": true,
   "toc_window_display": false
  },
  "varInspector": {
   "cols": {
    "lenName": 16,
    "lenType": 16,
    "lenVar": 40
   },
   "kernels_config": {
    "python": {
     "delete_cmd_postfix": "",
     "delete_cmd_prefix": "del ",
     "library": "var_list.py",
     "varRefreshCmd": "print(var_dic_list())"
    },
    "r": {
     "delete_cmd_postfix": ") ",
     "delete_cmd_prefix": "rm(",
     "library": "var_list.r",
     "varRefreshCmd": "cat(var_dic_list()) "
    }
   },
   "types_to_exclude": [
    "module",
    "function",
    "builtin_function_or_method",
    "instance",
    "_Feature"
   ],
   "window_display": false
  }
 },
 "nbformat": 4,
 "nbformat_minor": 5
}
