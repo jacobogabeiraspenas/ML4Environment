{
 "cells": [
  {
   "cell_type": "markdown",
   "id": "5f0dd739-a04c-48d3-bdf2-c38cfc78742a",
   "metadata": {
    "tags": []
   },
   "source": [
    "# Data Extraction Tutorial from Copernicus Climate Data Store\n",
    "\n",
    "## Step 1: Access the Data\n",
    "1. Visit the [Copernicus Climate Data Store website](https://cds.climate.copernicus.eu/cdsapp#!/dataset/reanalysis-era5-pressure-levels?tab=form).\n",
    "2. Register for an account or sign in if you already have one.\n",
    "\n",
    "## Step 2: Select Data Parameters\n",
    "1. Select the variables that interest you. For example \"Cloud cover\".\n",
    "2. Choose the pressure level.\n",
    "3. Specify the times (hourly, daily, etc.).\n",
    "4. Define the geographical scope of the data with latitude and longitude.\n",
    "5. Add the selection to your cart by clicking \"Submit Form\".\n",
    "\n",
    "## Step 3: Retrieve Data\n",
    "1. Review your data request. On the top you'll find \"Your Requests\". There you can see the progress of your request.\n",
    "2. Wait for the notification that your data is ready.\n",
    "3. Download the data from [your requests](https://cds.climate.copernicus.eu/cdsapp#!/yourrequests).\n",
    "\n",
    "## Step 4: Download and Install Required Tools for Python Manipulation\n",
    "Install necessary Python libraries using pip:\n",
    "```bash\n",
    "pip install numpy pandas xarray netCDF4\n"
   ]
  },
  {
   "cell_type": "markdown",
   "id": "00a47044-a1ba-4458-b4a8-615e34d9e6f4",
   "metadata": {},
   "source": [
    "## Step 5: Load and Convert NetCDF File to Pandas DataFrame\n",
    "\n",
    "Use Python to convert the NetCDF file to a DataFrame:"
   ]
  },
  {
   "cell_type": "code",
   "execution_count": null,
   "id": "80f3961c-fb8e-47f0-a67b-44874c6e6508",
   "metadata": {},
   "outputs": [],
   "source": [
    "import xarray as xr\n",
    "import pandas as pd\n",
    "\n",
    "# Load the NetCDF file\n",
    "ds = xr.open_dataset('path_to_your_downloaded_file.nc')\n",
    "\n",
    "# Select the 'cc' variable for cloud cover\n",
    "cloud_cover = ds['cc']\n",
    "\n",
    "# Convert to pandas DataFrame\n",
    "df = cloud_cover.to_dataframe().reset_index()"
   ]
  },
  {
   "cell_type": "markdown",
   "id": "d08d61a3-eadb-45fa-b18a-0b37f42d8c5d",
   "metadata": {},
   "source": [
    "## Step 6: Manipulate and Analyze the DataFrame\n",
    "\n",
    "Perform data analysis tasks using pandas:"
   ]
  },
  {
   "cell_type": "code",
   "execution_count": null,
   "id": "e145362d-bb49-4ede-8bc4-34f0733de8a1",
   "metadata": {},
   "outputs": [],
   "source": [
    "# Summarize cloud cover by date\n",
    "daily_summary = df.groupby(df.index.date).mean()\n",
    "\n",
    "# Filter data for a specific date range\n",
    "filtered_df = df['2020-01-01':'2020-01-31']\n",
    "\n",
    "# Visualize cloud cover trend\n",
    "daily_summary['cloud_cover'].plot()\n"
   ]
  },
  {
   "cell_type": "markdown",
   "id": "bd382a15-dff2-4f1f-a8a8-c3e3f1e7f6a4",
   "metadata": {},
   "source": [
    "Replace path_to_your_downloaded_file.nc with the path to your downloaded file and adjust the variable names and operations as needed for your data analysis."
   ]
  },
  {
   "cell_type": "markdown",
   "id": "333ea1d8-31d0-4d99-b5a2-32b6bd5f3449",
   "metadata": {},
   "source": [
    "Note: you can download any domain time range or variable you might be interested in for your model. There are also other datasets at Copernicus with different frequency (monthly, anually...) that might interest you."
   ]
  }
 ],
 "metadata": {
  "kernelspec": {
   "display_name": "Python 3 (ipykernel)",
   "language": "python",
   "name": "python3"
  },
  "language_info": {
   "codemirror_mode": {
    "name": "ipython",
    "version": 3
   },
   "file_extension": ".py",
   "mimetype": "text/x-python",
   "name": "python",
   "nbconvert_exporter": "python",
   "pygments_lexer": "ipython3",
   "version": "3.9.12"
  }
 },
 "nbformat": 4,
 "nbformat_minor": 5
}
